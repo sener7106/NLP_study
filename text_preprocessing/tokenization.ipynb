{
 "cells": [
  {
   "cell_type": "code",
   "execution_count": 1,
   "id": "3eab1c9b-3893-4ae5-ad73-acb0986c5ce1",
   "metadata": {},
   "outputs": [],
   "source": [
    "import nltk"
   ]
  },
  {
   "cell_type": "code",
   "execution_count": 2,
   "id": "b814d088-ead1-44cd-a704-b99e7b30e93e",
   "metadata": {},
   "outputs": [],
   "source": [
    "# nltk.download()"
   ]
  },
  {
   "cell_type": "code",
   "execution_count": 3,
   "id": "4f80b700-c9f5-4746-9f4c-3151872f9425",
   "metadata": {},
   "outputs": [],
   "source": [
    "from nltk.tokenize import word_tokenize\n",
    "from nltk.tokenize import WordPunctTokenizer\n",
    "from tensorflow.keras.preprocessing.text import text_to_word_sequence"
   ]
  },
  {
   "cell_type": "code",
   "execution_count": 4,
   "id": "823a0207-5bec-44d2-b7a8-c27af5cceb69",
   "metadata": {},
   "outputs": [],
   "source": [
    "contents = \"Apple's line of IPhone 13s, released in autumn 2021, sell for between $700 and $1,100\""
   ]
  },
  {
   "cell_type": "code",
   "execution_count": 5,
   "id": "c42a9d74-4b23-4ad5-a079-d828de85fc31",
   "metadata": {},
   "outputs": [
    {
     "data": {
      "text/plain": [
       "['Apple',\n",
       " \"'s\",\n",
       " 'line',\n",
       " 'of',\n",
       " 'IPhone',\n",
       " '13s',\n",
       " ',',\n",
       " 'released',\n",
       " 'in',\n",
       " 'autumn',\n",
       " '2021',\n",
       " ',',\n",
       " 'sell',\n",
       " 'for',\n",
       " 'between',\n",
       " '$',\n",
       " '700',\n",
       " 'and',\n",
       " '$',\n",
       " '1,100']"
      ]
     },
     "execution_count": 5,
     "metadata": {},
     "output_type": "execute_result"
    }
   ],
   "source": [
    "word_tokenize(contents)"
   ]
  },
  {
   "cell_type": "code",
   "execution_count": 6,
   "id": "cf4ad1e7-fbc7-4393-9643-b6f18011bd84",
   "metadata": {},
   "outputs": [
    {
     "name": "stdout",
     "output_type": "stream",
     "text": [
      "토큰화1 :  ['Apple', \"'s\", 'line', 'of', 'IPhone', '13s', ',', 'released', 'in', 'autumn', '2021', ',', 'sell', 'for', 'between', '$', '700', 'and', '$', '1,100']\n"
     ]
    }
   ],
   "source": [
    "print(\"토큰화1 : \", word_tokenize(contents))"
   ]
  },
  {
   "cell_type": "code",
   "execution_count": 7,
   "id": "e2cecbc5-ea10-4ac6-a105-97a3ea33053b",
   "metadata": {},
   "outputs": [
    {
     "name": "stdout",
     "output_type": "stream",
     "text": [
      "토큰화2: ['Apple', \"'\", 's', 'line', 'of', 'IPhone', '13s', ',', 'released', 'in', 'autumn', '2021', ',', 'sell', 'for', 'between', '$', '700', 'and', '$', '1', ',', '100']\n"
     ]
    }
   ],
   "source": [
    "print(\"토큰화2:\", WordPunctTokenizer().tokenize(contents))"
   ]
  },
  {
   "cell_type": "code",
   "execution_count": 8,
   "id": "6b020059-25f8-4c54-90da-3bd207359015",
   "metadata": {},
   "outputs": [
    {
     "name": "stdout",
     "output_type": "stream",
     "text": [
      "[\"apple's\", 'line', 'of', 'iphone', '13s', 'released', 'in', 'autumn', '2021', 'sell', 'for', 'between', '700', 'and', '1', '100']\n"
     ]
    }
   ],
   "source": [
    "print(text_to_word_sequence(contents))"
   ]
  },
  {
   "cell_type": "markdown",
   "id": "0625d578-549b-4648-8be9-2c3443515683",
   "metadata": {},
   "source": [
    "## 영문, 한글 토큰화`"
   ]
  },
  {
   "cell_type": "code",
   "execution_count": 9,
   "id": "05d17210-d9f9-4733-b906-59d4f782d7cf",
   "metadata": {},
   "outputs": [
    {
     "name": "stdout",
     "output_type": "stream",
     "text": [
      "토큰화4 :  ['Apple', \"'s\", 'line', 'of', 'IPhone', '13s', ',', 'released', 'in', 'autumn', '2021', ',', 'sell', 'for', 'between', '$', '700', 'and', '$', '1,100']\n"
     ]
    }
   ],
   "source": [
    "from nltk.tag import pos_tag\n",
    "\n",
    "tokenized = word_tokenize(contents)\n",
    "print(\"토큰화4 : \", tokenized)"
   ]
  },
  {
   "cell_type": "code",
   "execution_count": 10,
   "id": "fd9032d0-6923-44d5-ac4b-44aa26216c9f",
   "metadata": {},
   "outputs": [
    {
     "name": "stdout",
     "output_type": "stream",
     "text": [
      "품사 태깅: [('Apple', 'NNP'), (\"'s\", 'POS'), ('line', 'NN'), ('of', 'IN'), ('IPhone', 'NNP'), ('13s', 'CD'), (',', ','), ('released', 'VBN'), ('in', 'IN'), ('autumn', 'NN'), ('2021', 'CD'), (',', ','), ('sell', 'VB'), ('for', 'IN'), ('between', 'IN'), ('$', '$'), ('700', 'CD'), ('and', 'CC'), ('$', '$'), ('1,100', 'CD')]\n"
     ]
    }
   ],
   "source": [
    "print(\"품사 태깅:\", pos_tag(tokenized))"
   ]
  },
  {
   "cell_type": "code",
   "execution_count": 11,
   "id": "0c3a5e60-a596-48c7-8d20-45bf969e8e5e",
   "metadata": {},
   "outputs": [],
   "source": [
    "# KoNLPY, 자연어 파이썬 패키지, Okt, Mecab, kkma (형태소 토큰화 분석)"
   ]
  },
  {
   "cell_type": "code",
   "execution_count": 12,
   "id": "c3510361-bb05-4ecc-a281-981e97192b50",
   "metadata": {},
   "outputs": [],
   "source": [
    "import konlpy"
   ]
  },
  {
   "cell_type": "code",
   "execution_count": 13,
   "id": "0c772a4e-3568-4a95-9282-539d5f797a77",
   "metadata": {},
   "outputs": [],
   "source": [
    "# !pip install konlpy"
   ]
  },
  {
   "cell_type": "code",
   "execution_count": 14,
   "id": "17ce9556-6e32-4a60-b57b-7df1848b876a",
   "metadata": {
    "tags": []
   },
   "outputs": [],
   "source": [
    "from konlpy.tag import Okt\n",
    "from konlpy.tag import Kkma\n",
    "\n",
    "okt = Okt()\n",
    "kkma = Kkma()"
   ]
  },
  {
   "cell_type": "code",
   "execution_count": 15,
   "id": "73ad3498-1eb7-4c8f-b6a6-a4c0b3391cb7",
   "metadata": {},
   "outputs": [
    {
     "name": "stdout",
     "output_type": "stream",
     "text": [
      "OKT 형태소 분석 :  ['오늘', '은', 'Python', '의', 'JVM', 'EXCEPTION', '에', '대해', '서', '알아보았습니다', '.', '쒸바', '..']\n"
     ]
    }
   ],
   "source": [
    "print(\"OKT 형태소 분석 : \", okt.morphs(\"오늘은 Python의 JVM EXCEPTION에 대해서 알아보았습니다. 쒸바..\"))"
   ]
  },
  {
   "cell_type": "code",
   "execution_count": 16,
   "id": "7b02dcf4-ee38-43bd-806d-4b479ac9de1b",
   "metadata": {},
   "outputs": [
    {
     "name": "stdout",
     "output_type": "stream",
     "text": [
      "OKT 품사 태깅 :  [('오늘', 'Noun'), ('은', 'Josa'), ('Python', 'Alpha'), ('의', 'Noun'), ('JVM', 'Alpha'), ('EXCEPTION', 'Alpha'), ('에', 'Josa'), ('대해', 'Noun'), ('서', 'Josa'), ('알아보았습니다', 'Verb'), ('.', 'Punctuation'), ('쒸바', 'Noun'), ('..', 'Punctuation')]\n"
     ]
    }
   ],
   "source": [
    "print(\"OKT 품사 태깅 : \", okt.pos(\"오늘은 Python의 JVM EXCEPTION에 대해서 알아보았습니다. 쒸바..\"))"
   ]
  },
  {
   "cell_type": "code",
   "execution_count": 17,
   "id": "03b839e8-23c3-4f9b-9899-f9115625e139",
   "metadata": {},
   "outputs": [
    {
     "name": "stdout",
     "output_type": "stream",
     "text": [
      "OKT 형태소 분석 :  ['오늘', '의', '대해', '쒸바']\n"
     ]
    }
   ],
   "source": [
    "print(\"OKT 형태소 분석 : \", okt.nouns(\"오늘은 Python의 JVM EXCEPTION에 대해서 알아보았습니다. 쒸바..\"))"
   ]
  },
  {
   "cell_type": "markdown",
   "id": "a9194faf-04fc-4787-91a8-419cee2535c7",
   "metadata": {},
   "source": [
    "## Cleaning & Normalization\n",
    "1. 규칙에 기반한 단어들의 통합\n",
    "2. 대, 소문자의 통합\n",
    "3. 불필요한 단어를 제거\n",
    "4. 정규 표현식\n"
   ]
  },
  {
   "cell_type": "markdown",
   "id": "47bba3be-6de0-4608-a03d-a52dbd37043e",
   "metadata": {},
   "source": [
    "## Stemming\n",
    "어간 추출 - 단어에서 핵심적인 부분만을 추출\n",
    "## Lemmatization\n",
    "표제어 -> 주어진 단어의 사전적 어원을 찾는 과정, 기본 사전형 단어\n",
    "- 단어의 형태소를 분리 : 어간(stem), 접사(affix)"
   ]
  },
  {
   "cell_type": "markdown",
   "id": "ff858855-6695-49fb-b1f9-16e59a111c24",
   "metadata": {},
   "source": [
    "어간(stem) - 어미(ending)"
   ]
  },
  {
   "cell_type": "code",
   "execution_count": null,
   "id": "46e9bfca-a494-4b35-abfc-7390a3100b2f",
   "metadata": {},
   "outputs": [],
   "source": []
  }
 ],
 "metadata": {
  "kernelspec": {
   "display_name": "Python 3 (ipykernel)",
   "language": "python",
   "name": "python3"
  },
  "language_info": {
   "codemirror_mode": {
    "name": "ipython",
    "version": 3
   },
   "file_extension": ".py",
   "mimetype": "text/x-python",
   "name": "python",
   "nbconvert_exporter": "python",
   "pygments_lexer": "ipython3",
   "version": "3.9.7"
  }
 },
 "nbformat": 4,
 "nbformat_minor": 5
}
