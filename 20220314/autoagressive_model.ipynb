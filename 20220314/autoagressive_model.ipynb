{
 "cells": [
  {
   "cell_type": "code",
   "execution_count": 62,
   "id": "ec165ab5-5bea-4552-8b75-1a228d687f28",
   "metadata": {},
   "outputs": [],
   "source": [
    "import numpy as np\n",
    "import pandas as pd\n",
    "\n",
    "import tensorflow as tf\n",
    "import matplotlib.pyplot as plt\n",
    "from tensorflow.keras.layers import Input, Dense\n",
    "from tensorflow.keras.models import Model\n",
    "from tensorflow.keras.optimizers import SGD, Adam"
   ]
  },
  {
   "cell_type": "code",
   "execution_count": 63,
   "id": "896f4004-75fa-48e8-bed9-b1dcc8455711",
   "metadata": {
    "tags": []
   },
   "outputs": [
    {
     "name": "stdout",
     "output_type": "stream",
     "text": [
      "Requirement already satisfied: tensorflow in c:\\programdata\\anaconda3\\lib\\site-packages (2.8.0)\n",
      "Requirement already satisfied: keras<2.9,>=2.8.0rc0 in c:\\programdata\\anaconda3\\lib\\site-packages (from tensorflow) (2.8.0)\n",
      "Requirement already satisfied: keras-preprocessing>=1.1.1 in c:\\programdata\\anaconda3\\lib\\site-packages (from tensorflow) (1.1.2)\n",
      "Requirement already satisfied: h5py>=2.9.0 in c:\\programdata\\anaconda3\\lib\\site-packages (from tensorflow) (3.2.1)\n",
      "Requirement already satisfied: gast>=0.2.1 in c:\\programdata\\anaconda3\\lib\\site-packages (from tensorflow) (0.5.3)\n",
      "Requirement already satisfied: numpy>=1.20 in c:\\programdata\\anaconda3\\lib\\site-packages (from tensorflow) (1.20.3)\n",
      "Requirement already satisfied: libclang>=9.0.1 in c:\\programdata\\anaconda3\\lib\\site-packages (from tensorflow) (13.0.0)\n",
      "Requirement already satisfied: tensorboard<2.9,>=2.8 in c:\\programdata\\anaconda3\\lib\\site-packages (from tensorflow) (2.8.0)\n",
      "Requirement already satisfied: protobuf>=3.9.2 in c:\\programdata\\anaconda3\\lib\\site-packages (from tensorflow) (3.19.4)\n",
      "Requirement already satisfied: google-pasta>=0.1.1 in c:\\programdata\\anaconda3\\lib\\site-packages (from tensorflow) (0.2.0)\n",
      "Requirement already satisfied: tf-estimator-nightly==2.8.0.dev2021122109 in c:\\programdata\\anaconda3\\lib\\site-packages (from tensorflow) (2.8.0.dev2021122109)\n",
      "Requirement already satisfied: tensorflow-io-gcs-filesystem>=0.23.1 in c:\\programdata\\anaconda3\\lib\\site-packages (from tensorflow) (0.24.0)\n",
      "Requirement already satisfied: astunparse>=1.6.0 in c:\\programdata\\anaconda3\\lib\\site-packages (from tensorflow) (1.6.3)\n",
      "Requirement already satisfied: typing-extensions>=3.6.6 in c:\\programdata\\anaconda3\\lib\\site-packages (from tensorflow) (3.10.0.2)\n",
      "Requirement already satisfied: wrapt>=1.11.0 in c:\\programdata\\anaconda3\\lib\\site-packages (from tensorflow) (1.12.1)\n",
      "Requirement already satisfied: termcolor>=1.1.0 in c:\\programdata\\anaconda3\\lib\\site-packages (from tensorflow) (1.1.0)\n",
      "Requirement already satisfied: setuptools in c:\\programdata\\anaconda3\\lib\\site-packages (from tensorflow) (58.0.4)\n",
      "Requirement already satisfied: absl-py>=0.4.0 in c:\\programdata\\anaconda3\\lib\\site-packages (from tensorflow) (1.0.0)\n",
      "Requirement already satisfied: flatbuffers>=1.12 in c:\\programdata\\anaconda3\\lib\\site-packages (from tensorflow) (2.0)\n",
      "Requirement already satisfied: opt-einsum>=2.3.2 in c:\\programdata\\anaconda3\\lib\\site-packages (from tensorflow) (3.3.0)\n",
      "Requirement already satisfied: grpcio<2.0,>=1.24.3 in c:\\programdata\\anaconda3\\lib\\site-packages (from tensorflow) (1.44.0)\n",
      "Requirement already satisfied: six>=1.12.0 in c:\\programdata\\anaconda3\\lib\\site-packages (from tensorflow) (1.16.0)\n",
      "Requirement already satisfied: wheel<1.0,>=0.23.0 in c:\\programdata\\anaconda3\\lib\\site-packages (from astunparse>=1.6.0->tensorflow) (0.37.0)\n",
      "Requirement already satisfied: requests<3,>=2.21.0 in c:\\programdata\\anaconda3\\lib\\site-packages (from tensorboard<2.9,>=2.8->tensorflow) (2.26.0)\n",
      "Requirement already satisfied: google-auth<3,>=1.6.3 in c:\\programdata\\anaconda3\\lib\\site-packages (from tensorboard<2.9,>=2.8->tensorflow) (2.6.0)\n",
      "Requirement already satisfied: google-auth-oauthlib<0.5,>=0.4.1 in c:\\programdata\\anaconda3\\lib\\site-packages (from tensorboard<2.9,>=2.8->tensorflow) (0.4.6)\n",
      "Requirement already satisfied: tensorboard-plugin-wit>=1.6.0 in c:\\programdata\\anaconda3\\lib\\site-packages (from tensorboard<2.9,>=2.8->tensorflow) (1.8.1)\n",
      "Requirement already satisfied: tensorboard-data-server<0.7.0,>=0.6.0 in c:\\programdata\\anaconda3\\lib\\site-packages (from tensorboard<2.9,>=2.8->tensorflow) (0.6.1)\n",
      "Requirement already satisfied: markdown>=2.6.8 in c:\\programdata\\anaconda3\\lib\\site-packages (from tensorboard<2.9,>=2.8->tensorflow) (3.3.6)\n",
      "Requirement already satisfied: werkzeug>=0.11.15 in c:\\programdata\\anaconda3\\lib\\site-packages (from tensorboard<2.9,>=2.8->tensorflow) (2.0.2)\n",
      "Requirement already satisfied: pyasn1-modules>=0.2.1 in c:\\programdata\\anaconda3\\lib\\site-packages (from google-auth<3,>=1.6.3->tensorboard<2.9,>=2.8->tensorflow) (0.2.8)\n",
      "Requirement already satisfied: rsa<5,>=3.1.4 in c:\\programdata\\anaconda3\\lib\\site-packages (from google-auth<3,>=1.6.3->tensorboard<2.9,>=2.8->tensorflow) (4.8)\n",
      "Requirement already satisfied: cachetools<6.0,>=2.0.0 in c:\\programdata\\anaconda3\\lib\\site-packages (from google-auth<3,>=1.6.3->tensorboard<2.9,>=2.8->tensorflow) (5.0.0)\n",
      "Requirement already satisfied: requests-oauthlib>=0.7.0 in c:\\programdata\\anaconda3\\lib\\site-packages (from google-auth-oauthlib<0.5,>=0.4.1->tensorboard<2.9,>=2.8->tensorflow) (1.3.1)\n",
      "Requirement already satisfied: importlib-metadata>=4.4 in c:\\programdata\\anaconda3\\lib\\site-packages (from markdown>=2.6.8->tensorboard<2.9,>=2.8->tensorflow) (4.8.1)\n",
      "Requirement already satisfied: certifi>=2017.4.17 in c:\\programdata\\anaconda3\\lib\\site-packages (from requests<3,>=2.21.0->tensorboard<2.9,>=2.8->tensorflow) (2021.10.8)\n",
      "Requirement already satisfied: charset-normalizer~=2.0.0 in c:\\programdata\\anaconda3\\lib\\site-packages (from requests<3,>=2.21.0->tensorboard<2.9,>=2.8->tensorflow) (2.0.4)\n",
      "Requirement already satisfied: urllib3<1.27,>=1.21.1 in c:\\programdata\\anaconda3\\lib\\site-packages (from requests<3,>=2.21.0->tensorboard<2.9,>=2.8->tensorflow) (1.26.7)\n",
      "Requirement already satisfied: idna<4,>=2.5 in c:\\programdata\\anaconda3\\lib\\site-packages (from requests<3,>=2.21.0->tensorboard<2.9,>=2.8->tensorflow) (3.2)\n",
      "Requirement already satisfied: zipp>=0.5 in c:\\programdata\\anaconda3\\lib\\site-packages (from importlib-metadata>=4.4->markdown>=2.6.8->tensorboard<2.9,>=2.8->tensorflow) (3.6.0)\n",
      "Requirement already satisfied: pyasn1<0.5.0,>=0.4.6 in c:\\programdata\\anaconda3\\lib\\site-packages (from pyasn1-modules>=0.2.1->google-auth<3,>=1.6.3->tensorboard<2.9,>=2.8->tensorflow) (0.4.8)\n",
      "Requirement already satisfied: oauthlib>=3.0.0 in c:\\programdata\\anaconda3\\lib\\site-packages (from requests-oauthlib>=0.7.0->google-auth-oauthlib<0.5,>=0.4.1->tensorboard<2.9,>=2.8->tensorflow) (3.2.0)\n"
     ]
    }
   ],
   "source": [
    "!pip install tensorflow"
   ]
  },
  {
   "cell_type": "code",
   "execution_count": 64,
   "id": "2e2b5ca0-0a48-4dc2-ac5d-52f3d0286310",
   "metadata": {},
   "outputs": [
    {
     "data": {
      "text/plain": [
       "'2.8.0'"
      ]
     },
     "execution_count": 64,
     "metadata": {},
     "output_type": "execute_result"
    }
   ],
   "source": [
    "tf.__version__"
   ]
  },
  {
   "cell_type": "code",
   "execution_count": 65,
   "id": "905d2b90-1307-4a3c-b8ea-131a7d0df3af",
   "metadata": {},
   "outputs": [
    {
     "data": {
      "image/png": "[encoded data removed]",
      "text/plain": [
       "<Figure size 432x288 with 1 Axes>"
      ]
     },
     "metadata": {
      "needs_background": "light"
     },
     "output_type": "display_data"
    }
   ],
   "source": [
    "series = np.sin(0.1 * np.arange(200)) # + np.random.randn(200) * 0.1\n",
    "\n",
    "plt.plot(series)\n",
    "plt.show()"
   ]
  },
  {
   "cell_type": "markdown",
   "id": "0822b58c-33cc-4ec6-915f-9a5c9d4d7d97",
   "metadata": {
    "tags": []
   },
   "source": [
    "## Build a dataset"
   ]
  },
  {
   "cell_type": "code",
   "execution_count": 66,
   "id": "1538288b-3efc-4872-8f84-b7302811ca97",
   "metadata": {},
   "outputs": [],
   "source": [
    "T = 10\n",
    "X = []\n",
    "Y = []"
   ]
  },
  {
   "cell_type": "code",
   "execution_count": 67,
   "id": "9a155957-0adb-425c-b246-0c919d7b5e7e",
   "metadata": {},
   "outputs": [],
   "source": [
    "for t in range(len(series) - T) :\n",
    "    x = series[t : t+T]\n",
    "    X.append(x)\n",
    "    y = series[t+T]\n",
    "    Y.append(y)"
   ]
  },
  {
   "cell_type": "code",
   "execution_count": 68,
   "id": "4177d35b-8720-4a41-a48f-e9b05f11982e",
   "metadata": {},
   "outputs": [
    {
     "name": "stdout",
     "output_type": "stream",
     "text": [
      "X.shape:(190, 10), Y.shape:(190,), N.length:190\n"
     ]
    }
   ],
   "source": [
    "X = np.array(X).reshape(-1, T)\n",
    "Y = np.array(Y)\n",
    "N = len(X)\n",
    "print(f\"X.shape:{X.shape}, Y.shape:{Y.shape}, N.length:{N}\")"
   ]
  },
  {
   "cell_type": "code",
   "execution_count": 69,
   "id": "5b6a7b42-522c-49f0-bbe8-3e8973628163",
   "metadata": {},
   "outputs": [
    {
     "name": "stdout",
     "output_type": "stream",
     "text": [
      "Model: \"model_4\"\n",
      "_________________________________________________________________\n",
      " Layer (type)                Output Shape              Param #   \n",
      "=================================================================\n",
      " input_8 (InputLayer)        [(None, 10)]              0         \n",
      "                                                                 \n",
      " dense_3 (Dense)             (None, 1)                 11        \n",
      "                                                                 \n",
      "=================================================================\n",
      "Total params: 11\n",
      "Trainable params: 11\n",
      "Non-trainable params: 0\n",
      "_________________________________________________________________\n"
     ]
    }
   ],
   "source": [
    "# linear model\n",
    "i = Input(shape=(T, ))\n",
    "x = Dense(1)(i)\n",
    "\n",
    "model = Model(i, x)\n",
    "model.summary()"
   ]
  },
  {
   "cell_type": "code",
   "execution_count": 70,
   "id": "1a59be60-80a2-4085-baea-662b85c736ac",
   "metadata": {},
   "outputs": [],
   "source": [
    "model.compile(loss='mse', optimizer=Adam(learning_rate=0.1))"
   ]
  },
  {
   "cell_type": "code",
   "execution_count": 71,
   "id": "c6f41dc3-de1d-451c-a507-07eed65d8c2e",
   "metadata": {},
   "outputs": [
    {
     "name": "stdout",
     "output_type": "stream",
     "text": [
      "Epoch 1/80\n",
      "3/3 [==============================] - 0s 35ms/step - loss: 0.5028 - val_loss: 0.2940\n",
      "Epoch 2/80\n",
      "3/3 [==============================] - 0s 10ms/step - loss: 0.2011 - val_loss: 0.1190\n",
      "Epoch 3/80\n",
      "3/3 [==============================] - 0s 9ms/step - loss: 0.0940 - val_loss: 0.0111\n",
      "Epoch 4/80\n",
      "3/3 [==============================] - 0s 9ms/step - loss: 0.0244 - val_loss: 0.0313\n",
      "Epoch 5/80\n",
      "3/3 [==============================] - 0s 10ms/step - loss: 0.0378 - val_loss: 0.0413\n",
      "Epoch 6/80\n",
      "3/3 [==============================] - 0s 10ms/step - loss: 0.0586 - val_loss: 0.0563\n",
      "Epoch 7/80\n",
      "3/3 [==============================] - 0s 10ms/step - loss: 0.0478 - val_loss: 0.0654\n",
      "Epoch 8/80\n",
      "3/3 [==============================] - 0s 10ms/step - loss: 0.0387 - val_loss: 0.0167\n",
      "Epoch 9/80\n",
      "3/3 [==============================] - 0s 10ms/step - loss: 0.0152 - val_loss: 0.0131\n",
      "Epoch 10/80\n",
      "3/3 [==============================] - 0s 10ms/step - loss: 0.0066 - val_loss: 0.0030\n",
      "Epoch 11/80\n",
      "3/3 [==============================] - 0s 9ms/step - loss: 0.0071 - val_loss: 0.0059\n",
      "Epoch 12/80\n",
      "3/3 [==============================] - 0s 12ms/step - loss: 0.0068 - val_loss: 0.0099\n",
      "Epoch 13/80\n",
      "3/3 [==============================] - 0s 10ms/step - loss: 0.0093 - val_loss: 0.0059\n",
      "Epoch 14/80\n",
      "3/3 [==============================] - 0s 10ms/step - loss: 0.0065 - val_loss: 0.0038\n",
      "Epoch 15/80\n",
      "3/3 [==============================] - 0s 10ms/step - loss: 0.0021 - val_loss: 0.0024\n",
      "Epoch 16/80\n",
      "3/3 [==============================] - 0s 9ms/step - loss: 0.0015 - val_loss: 2.1253e-04\n",
      "Epoch 17/80\n",
      "3/3 [==============================] - 0s 10ms/step - loss: 0.0011 - val_loss: 0.0020\n",
      "Epoch 18/80\n",
      "3/3 [==============================] - 0s 9ms/step - loss: 0.0014 - val_loss: 0.0018\n",
      "Epoch 19/80\n",
      "3/3 [==============================] - 0s 11ms/step - loss: 0.0017 - val_loss: 9.2866e-04\n",
      "Epoch 20/80\n",
      "3/3 [==============================] - 0s 9ms/step - loss: 8.4856e-04 - val_loss: 6.1292e-04\n",
      "Epoch 21/80\n",
      "3/3 [==============================] - 0s 10ms/step - loss: 2.5533e-04 - val_loss: 3.1022e-04\n",
      "Epoch 22/80\n",
      "3/3 [==============================] - 0s 9ms/step - loss: 2.6987e-04 - val_loss: 1.5112e-04\n",
      "Epoch 23/80\n",
      "3/3 [==============================] - 0s 10ms/step - loss: 2.7009e-04 - val_loss: 3.2540e-04\n",
      "Epoch 24/80\n",
      "3/3 [==============================] - 0s 10ms/step - loss: 2.8198e-04 - val_loss: 3.3031e-04\n",
      "Epoch 25/80\n",
      "3/3 [==============================] - 0s 10ms/step - loss: 2.1566e-04 - val_loss: 9.7113e-05\n",
      "Epoch 26/80\n",
      "3/3 [==============================] - 0s 11ms/step - loss: 9.5541e-05 - val_loss: 3.2916e-06\n",
      "Epoch 27/80\n",
      "3/3 [==============================] - 0s 10ms/step - loss: 3.6080e-05 - val_loss: 4.4102e-05\n",
      "Epoch 28/80\n",
      "3/3 [==============================] - 0s 9ms/step - loss: 5.8227e-05 - val_loss: 1.1246e-04\n",
      "Epoch 29/80\n",
      "3/3 [==============================] - 0s 11ms/step - loss: 7.1491e-05 - val_loss: 5.4505e-05\n",
      "Epoch 30/80\n",
      "3/3 [==============================] - 0s 10ms/step - loss: 3.9844e-05 - val_loss: 1.2393e-05\n",
      "Epoch 31/80\n",
      "3/3 [==============================] - 0s 9ms/step - loss: 1.6489e-05 - val_loss: 5.7243e-07\n",
      "Epoch 32/80\n",
      "3/3 [==============================] - 0s 10ms/step - loss: 1.0104e-05 - val_loss: 1.4969e-05\n",
      "Epoch 33/80\n",
      "3/3 [==============================] - 0s 10ms/step - loss: 1.4507e-05 - val_loss: 2.1538e-05\n",
      "Epoch 34/80\n",
      "3/3 [==============================] - 0s 9ms/step - loss: 1.6322e-05 - val_loss: 1.1030e-05\n",
      "Epoch 35/80\n",
      "3/3 [==============================] - 0s 10ms/step - loss: 6.5863e-06 - val_loss: 2.3176e-06\n",
      "Epoch 36/80\n",
      "3/3 [==============================] - 0s 11ms/step - loss: 3.2334e-06 - val_loss: 1.2365e-06\n",
      "Epoch 37/80\n",
      "3/3 [==============================] - 0s 9ms/step - loss: 4.0552e-06 - val_loss: 3.2102e-06\n",
      "Epoch 38/80\n",
      "3/3 [==============================] - 0s 10ms/step - loss: 3.9586e-06 - val_loss: 3.2299e-06\n",
      "Epoch 39/80\n",
      "3/3 [==============================] - 0s 10ms/step - loss: 2.1827e-06 - val_loss: 1.4971e-06\n",
      "Epoch 40/80\n",
      "3/3 [==============================] - 0s 9ms/step - loss: 6.8622e-07 - val_loss: 8.4814e-07\n",
      "Epoch 41/80\n",
      "3/3 [==============================] - 0s 10ms/step - loss: 7.6543e-07 - val_loss: 1.1433e-06\n",
      "Epoch 42/80\n",
      "3/3 [==============================] - 0s 9ms/step - loss: 1.0664e-06 - val_loss: 8.0680e-07\n",
      "Epoch 43/80\n",
      "3/3 [==============================] - 0s 10ms/step - loss: 7.6610e-07 - val_loss: 3.3610e-07\n",
      "Epoch 44/80\n",
      "3/3 [==============================] - 0s 10ms/step - loss: 3.4584e-07 - val_loss: 5.1535e-08\n",
      "Epoch 45/80\n",
      "3/3 [==============================] - 0s 10ms/step - loss: 1.6914e-07 - val_loss: 2.2442e-07\n",
      "Epoch 46/80\n",
      "3/3 [==============================] - 0s 11ms/step - loss: 2.1274e-07 - val_loss: 3.3173e-07\n",
      "Epoch 47/80\n",
      "3/3 [==============================] - 0s 10ms/step - loss: 2.6736e-07 - val_loss: 2.3514e-07\n",
      "Epoch 48/80\n",
      "3/3 [==============================] - 0s 9ms/step - loss: 1.4505e-07 - val_loss: 1.4630e-07\n",
      "Epoch 49/80\n",
      "3/3 [==============================] - 0s 10ms/step - loss: 5.9365e-08 - val_loss: 8.7010e-08\n",
      "Epoch 50/80\n",
      "3/3 [==============================] - 0s 10ms/step - loss: 8.7926e-08 - val_loss: 9.0727e-08\n",
      "Epoch 51/80\n",
      "3/3 [==============================] - 0s 9ms/step - loss: 8.9891e-08 - val_loss: 5.7933e-08\n",
      "Epoch 52/80\n",
      "3/3 [==============================] - 0s 9ms/step - loss: 4.5978e-08 - val_loss: 2.5047e-08\n",
      "Epoch 53/80\n",
      "3/3 [==============================] - 0s 10ms/step - loss: 2.0038e-08 - val_loss: 1.3616e-08\n",
      "Epoch 54/80\n",
      "3/3 [==============================] - 0s 10ms/step - loss: 2.3806e-08 - val_loss: 2.6371e-08\n",
      "Epoch 55/80\n",
      "3/3 [==============================] - 0s 9ms/step - loss: 2.9146e-08 - val_loss: 1.4929e-08\n",
      "Epoch 56/80\n",
      "3/3 [==============================] - 0s 11ms/step - loss: 1.5333e-08 - val_loss: 2.7726e-09\n",
      "Epoch 57/80\n",
      "3/3 [==============================] - 0s 9ms/step - loss: 7.0941e-09 - val_loss: 2.8329e-09\n",
      "Epoch 58/80\n",
      "3/3 [==============================] - 0s 9ms/step - loss: 8.2422e-09 - val_loss: 8.1509e-09\n",
      "Epoch 59/80\n",
      "3/3 [==============================] - 0s 10ms/step - loss: 1.1142e-08 - val_loss: 3.0920e-09\n",
      "Epoch 60/80\n",
      "3/3 [==============================] - 0s 10ms/step - loss: 4.9462e-09 - val_loss: 9.5862e-10\n",
      "Epoch 61/80\n",
      "3/3 [==============================] - 0s 8ms/step - loss: 2.8104e-09 - val_loss: 2.0127e-09\n",
      "Epoch 62/80\n",
      "3/3 [==============================] - 0s 9ms/step - loss: 3.5514e-09 - val_loss: 4.5339e-09\n",
      "Epoch 63/80\n",
      "3/3 [==============================] - 0s 9ms/step - loss: 3.3223e-09 - val_loss: 1.1182e-09\n",
      "Epoch 64/80\n",
      "3/3 [==============================] - 0s 10ms/step - loss: 1.9590e-09 - val_loss: 9.5682e-10\n",
      "Epoch 65/80\n",
      "3/3 [==============================] - 0s 10ms/step - loss: 2.1852e-09 - val_loss: 1.6973e-09\n",
      "Epoch 66/80\n",
      "3/3 [==============================] - 0s 13ms/step - loss: 2.5310e-09 - val_loss: 2.2153e-09\n",
      "Epoch 67/80\n",
      "3/3 [==============================] - 0s 9ms/step - loss: 1.6745e-09 - val_loss: 7.8181e-10\n",
      "Epoch 68/80\n",
      "3/3 [==============================] - 0s 9ms/step - loss: 9.2418e-10 - val_loss: 3.8384e-10\n",
      "Epoch 69/80\n",
      "3/3 [==============================] - 0s 10ms/step - loss: 7.2975e-10 - val_loss: 5.7736e-10\n",
      "Epoch 70/80\n",
      "3/3 [==============================] - 0s 9ms/step - loss: 7.3429e-10 - val_loss: 7.5201e-10\n",
      "Epoch 71/80\n",
      "3/3 [==============================] - 0s 9ms/step - loss: 5.4375e-10 - val_loss: 2.3970e-10\n",
      "Epoch 72/80\n",
      "3/3 [==============================] - 0s 9ms/step - loss: 3.3246e-10 - val_loss: 7.8272e-11\n",
      "Epoch 73/80\n",
      "3/3 [==============================] - 0s 10ms/step - loss: 2.6820e-10 - val_loss: 1.0539e-10\n",
      "Epoch 74/80\n",
      "3/3 [==============================] - 0s 9ms/step - loss: 3.0515e-10 - val_loss: 3.5639e-11\n",
      "Epoch 75/80\n",
      "3/3 [==============================] - 0s 12ms/step - loss: 1.9311e-10 - val_loss: 4.5424e-11\n",
      "Epoch 76/80\n",
      "3/3 [==============================] - 0s 10ms/step - loss: 1.3040e-10 - val_loss: 1.9724e-11\n",
      "Epoch 77/80\n",
      "3/3 [==============================] - 0s 10ms/step - loss: 1.0206e-10 - val_loss: 9.0533e-11\n",
      "Epoch 78/80\n",
      "3/3 [==============================] - 0s 9ms/step - loss: 7.1941e-11 - val_loss: 3.2847e-11\n",
      "Epoch 79/80\n",
      "3/3 [==============================] - 0s 9ms/step - loss: 4.2564e-11 - val_loss: 2.5338e-11\n",
      "Epoch 80/80\n",
      "3/3 [==============================] - 0s 10ms/step - loss: 3.2173e-11 - val_loss: 2.5000e-11\n"
     ]
    }
   ],
   "source": [
    "# train the model\n",
    "# X:학습데이터, Y:정답데이터, epochs=80, validation_data:검증 데이터 \n",
    "r = model.fit(X[:-N//2], Y[:-N//2], epochs=80, validation_data=(X[-N//2:], Y[-N//2:]))"
   ]
  },
  {
   "cell_type": "code",
   "execution_count": 72,
   "id": "6ff3a477-5971-4fae-a4fb-f5de612f093e",
   "metadata": {},
   "outputs": [
    {
     "data": {
      "text/plain": [
       "<matplotlib.legend.Legend at 0x1fe8eec8fd0>"
      ]
     },
     "execution_count": 72,
     "metadata": {},
     "output_type": "execute_result"
    },
    {
     "data": {
      "image/png": "[encoded data removed]",
      "text/plain": [
       "<Figure size 432x288 with 1 Axes>"
      ]
     },
     "metadata": {
      "needs_background": "light"
     },
     "output_type": "display_data"
    }
   ],
   "source": [
    "plt.plot(r.history['loss'], label='loss')\n",
    "plt.plot(r.history['val_loss'], label='val_loss')\n",
    "plt.legend()"
   ]
  },
  {
   "cell_type": "markdown",
   "id": "299bdf8d-a398-48c5-8364-877a20424cb2",
   "metadata": {},
   "source": [
    "## \"Wrong\" forecast using true targets"
   ]
  },
  {
   "cell_type": "code",
   "execution_count": 73,
   "id": "51fd0bb6-1a9c-4b59-8814-d7332dfdac8f",
   "metadata": {},
   "outputs": [],
   "source": [
    "validation_target = Y[-N//2:]\n",
    "validation_predictions = []\n",
    "\n",
    "i = -N//2 \n",
    "while len(validation_predictions) < len(validation_target):\n",
    "    p = model.predict(X[i].reshape(1, -1))[0,0] # 1x1 array -> scalar\n",
    "    i += 1\n",
    "    \n",
    "    validation_predictions.append(p)"
   ]
  },
  {
   "cell_type": "code",
   "execution_count": 74,
   "id": "e11ac4d1-b2b5-490a-b654-449e5d02d2a6",
   "metadata": {},
   "outputs": [
    {
     "data": {
      "image/png": "[encoded data removed]",
      "text/plain": [
       "<Figure size 432x288 with 1 Axes>"
      ]
     },
     "metadata": {
      "needs_background": "light"
     },
     "output_type": "display_data"
    }
   ],
   "source": [
    "plt.plot(validation_target, label='forecast_target')\n",
    "plt.plot(validation_predictions, label='forecast_prediction')\n",
    "plt.legend()\n",
    "validation_target = Y[-N//2:]\n",
    "validation_predictions = []\n"
   ]
  },
  {
   "cell_type": "code",
   "execution_count": 75,
   "id": "2a8fffbd-2a8e-415d-bbc6-c94b3114f46f",
   "metadata": {},
   "outputs": [
    {
     "name": "stdout",
     "output_type": "stream",
     "text": [
      "95\n",
      "[-0.07515112 -0.17432678 -0.27176063 -0.36647913 -0.45753589 -0.54402111\n",
      " -0.62507065 -0.69987469 -0.76768581 -0.82782647]\n",
      "[[-0.07515112 -0.17432678 -0.27176063 -0.36647913 -0.45753589 -0.54402111\n",
      "  -0.62507065 -0.69987469 -0.76768581 -0.82782647]]\n",
      "-0.8796938\n"
     ]
    }
   ],
   "source": [
    "# last train input \n",
    "last_x = X[-N//2]\n",
    "print(len(validation_target))\n",
    "print(last_x)\n",
    "print(last_x.reshape(1, -1))\n",
    "print(model.predict(last_x.reshape(1, -1))[0,0])"
   ]
  },
  {
   "cell_type": "code",
   "execution_count": 76,
   "id": "4eb4630d-1e01-451e-ae6d-c893032bf96d",
   "metadata": {},
   "outputs": [],
   "source": [
    "while len(validation_predictions) < len(validation_target):\n",
    "    p = model.predict(last_x.reshape(1, -1))[0,0] # 1x1 array -> scalar\n",
    "    validation_predictions.append(p)\n",
    "    \n",
    "    last_x = np.roll(last_x, -1)\n",
    "    last_x[-1] = p"
   ]
  },
  {
   "cell_type": "code",
   "execution_count": 77,
   "id": "0d10b836-8b0d-4c26-b4ec-2e7458f1901b",
   "metadata": {},
   "outputs": [
    {
     "data": {
      "text/plain": [
       "<matplotlib.legend.Legend at 0x1fe8ee818b0>"
      ]
     },
     "execution_count": 77,
     "metadata": {},
     "output_type": "execute_result"
    },
    {
     "data": {
      "image/png": "[encoded data removed]",
      "text/plain": [
       "<Figure size 432x288 with 1 Axes>"
      ]
     },
     "metadata": {
      "needs_background": "light"
     },
     "output_type": "display_data"
    }
   ],
   "source": [
    "plt.plot(validation_target, label='forecast_target')\n",
    "plt.plot(validation_predictions, label='forecast_prediction')\n",
    "plt.legend()"
   ]
  },
  {
   "cell_type": "markdown",
   "id": "dc063bc7-21fe-46a4-94fa-4666b1a42ede",
   "metadata": {},
   "source": [
    "## Noise examples"
   ]
  },
  {
   "cell_type": "code",
   "execution_count": 95,
   "id": "2174f63f-2d34-4022-8a78-30fcf394ed4c",
   "metadata": {},
   "outputs": [
    {
     "data": {
      "image/png": "[encoded data removed]",
      "text/plain": [
       "<Figure size 432x288 with 1 Axes>"
      ]
     },
     "metadata": {
      "needs_background": "light"
     },
     "output_type": "display_data"
    }
   ],
   "source": [
    "series = np.sin(0.1 * np.arange(200)) + np.random.randn(200) * 0.1\n",
    "\n",
    "plt.plot(series)\n",
    "plt.show()"
   ]
  },
  {
   "cell_type": "code",
   "execution_count": null,
   "id": "201904b7-9b0c-4f6c-a14c-8b4793166872",
   "metadata": {},
   "outputs": [],
   "source": []
  },
  {
   "cell_type": "markdown",
   "id": "a4614943-1992-448a-9dd2-092cd6a1d048",
   "metadata": {
    "tags": []
   },
   "source": [
    "## Build a dataset"
   ]
  },
  {
   "cell_type": "code",
   "execution_count": 96,
   "id": "abbd30a2-292a-4691-9033-761d9e3109b8",
   "metadata": {},
   "outputs": [],
   "source": [
    "T = 10\n",
    "X = []\n",
    "Y = []"
   ]
  },
  {
   "cell_type": "code",
   "execution_count": 97,
   "id": "4be9120b-9e02-43d1-9cc8-fd4f0bbf3474",
   "metadata": {},
   "outputs": [],
   "source": [
    "for t in range(len(series) - T) :\n",
    "    x = series[t : t+T]\n",
    "    X.append(x)\n",
    "    y = series[t+T]\n",
    "    Y.append(y)"
   ]
  },
  {
   "cell_type": "code",
   "execution_count": 98,
   "id": "219c2e2d-30e5-4c04-a1ea-4bba8c16d67d",
   "metadata": {},
   "outputs": [
    {
     "name": "stdout",
     "output_type": "stream",
     "text": [
      "X.shape:(190, 10), Y.shape:(190,), N.length:190\n"
     ]
    }
   ],
   "source": [
    "X = np.array(X).reshape(-1, T)\n",
    "Y = np.array(Y)\n",
    "N = len(X)\n",
    "print(f\"X.shape:{X.shape}, Y.shape:{Y.shape}, N.length:{N}\")"
   ]
  },
  {
   "cell_type": "code",
   "execution_count": 99,
   "id": "2a3cb158-5305-4fee-bfbf-4231a7d46c7d",
   "metadata": {},
   "outputs": [
    {
     "name": "stdout",
     "output_type": "stream",
     "text": [
      "Model: \"model_6\"\n",
      "_________________________________________________________________\n",
      " Layer (type)                Output Shape              Param #   \n",
      "=================================================================\n",
      " input_10 (InputLayer)       [(None, 10)]              0         \n",
      "                                                                 \n",
      " dense_5 (Dense)             (None, 1)                 11        \n",
      "                                                                 \n",
      "=================================================================\n",
      "Total params: 11\n",
      "Trainable params: 11\n",
      "Non-trainable params: 0\n",
      "_________________________________________________________________\n"
     ]
    }
   ],
   "source": [
    "# linear model\n",
    "i = Input(shape=(T, ))\n",
    "x = Dense(1)(i)\n",
    "\n",
    "model = Model(i, x)\n",
    "model.summary()"
   ]
  },
  {
   "cell_type": "code",
   "execution_count": 100,
   "id": "0785ff38-76a9-4367-bfea-7e80a230cb1c",
   "metadata": {},
   "outputs": [],
   "source": [
    "model.compile(loss='mse', optimizer=Adam(learning_rate=0.1))"
   ]
  },
  {
   "cell_type": "code",
   "execution_count": 101,
   "id": "85a4bfb4-cfd3-4fe8-8967-83ef427520b6",
   "metadata": {
    "collapsed": true,
    "jupyter": {
     "outputs_hidden": true
    },
    "tags": []
   },
   "outputs": [
    {
     "name": "stdout",
     "output_type": "stream",
     "text": [
      "Epoch 1/80\n",
      "3/3 [==============================] - 0s 48ms/step - loss: 1.1083 - val_loss: 0.1754\n",
      "Epoch 2/80\n",
      "3/3 [==============================] - 0s 20ms/step - loss: 0.5182 - val_loss: 0.6248\n",
      "Epoch 3/80\n",
      "3/3 [==============================] - 0s 9ms/step - loss: 0.4658 - val_loss: 0.0685\n",
      "Epoch 4/80\n",
      "3/3 [==============================] - 0s 10ms/step - loss: 0.0844 - val_loss: 0.1754\n",
      "Epoch 5/80\n",
      "3/3 [==============================] - 0s 10ms/step - loss: 0.2778 - val_loss: 0.1630\n",
      "Epoch 6/80\n",
      "3/3 [==============================] - 0s 10ms/step - loss: 0.1190 - val_loss: 0.0244\n",
      "Epoch 7/80\n",
      "3/3 [==============================] - 0s 10ms/step - loss: 0.0528 - val_loss: 0.1196\n",
      "Epoch 8/80\n",
      "3/3 [==============================] - 0s 10ms/step - loss: 0.1259 - val_loss: 0.0690\n",
      "Epoch 9/80\n",
      "3/3 [==============================] - 0s 10ms/step - loss: 0.0476 - val_loss: 0.0288\n",
      "Epoch 10/80\n",
      "3/3 [==============================] - 0s 10ms/step - loss: 0.0488 - val_loss: 0.0743\n",
      "Epoch 11/80\n",
      "3/3 [==============================] - 0s 10ms/step - loss: 0.0629 - val_loss: 0.0308\n",
      "Epoch 12/80\n",
      "3/3 [==============================] - 0s 9ms/step - loss: 0.0262 - val_loss: 0.0340\n",
      "Epoch 13/80\n",
      "3/3 [==============================] - 0s 9ms/step - loss: 0.0382 - val_loss: 0.0414\n",
      "Epoch 14/80\n",
      "3/3 [==============================] - 0s 9ms/step - loss: 0.0302 - val_loss: 0.0222\n",
      "Epoch 15/80\n",
      "3/3 [==============================] - 0s 9ms/step - loss: 0.0226 - val_loss: 0.0269\n",
      "Epoch 16/80\n",
      "3/3 [==============================] - 0s 9ms/step - loss: 0.0286 - val_loss: 0.0221\n",
      "Epoch 17/80\n",
      "3/3 [==============================] - 0s 10ms/step - loss: 0.0206 - val_loss: 0.0228\n",
      "Epoch 18/80\n",
      "3/3 [==============================] - 0s 10ms/step - loss: 0.0230 - val_loss: 0.0235\n",
      "Epoch 19/80\n",
      "3/3 [==============================] - 0s 12ms/step - loss: 0.0212 - val_loss: 0.0205\n",
      "Epoch 20/80\n",
      "3/3 [==============================] - 0s 17ms/step - loss: 0.0201 - val_loss: 0.0223\n",
      "Epoch 21/80\n",
      "3/3 [==============================] - 0s 10ms/step - loss: 0.0206 - val_loss: 0.0198\n",
      "Epoch 22/80\n",
      "3/3 [==============================] - 0s 17ms/step - loss: 0.0193 - val_loss: 0.0221\n",
      "Epoch 23/80\n",
      "3/3 [==============================] - 0s 18ms/step - loss: 0.0204 - val_loss: 0.0205\n",
      "Epoch 24/80\n",
      "3/3 [==============================] - 0s 11ms/step - loss: 0.0180 - val_loss: 0.0199\n",
      "Epoch 25/80\n",
      "3/3 [==============================] - 0s 10ms/step - loss: 0.0193 - val_loss: 0.0195\n",
      "Epoch 26/80\n",
      "3/3 [==============================] - 0s 10ms/step - loss: 0.0182 - val_loss: 0.0193\n",
      "Epoch 27/80\n",
      "3/3 [==============================] - 0s 8ms/step - loss: 0.0182 - val_loss: 0.0193\n",
      "Epoch 28/80\n",
      "3/3 [==============================] - 0s 9ms/step - loss: 0.0177 - val_loss: 0.0187\n",
      "Epoch 29/80\n",
      "3/3 [==============================] - 0s 10ms/step - loss: 0.0175 - val_loss: 0.0185\n",
      "Epoch 30/80\n",
      "3/3 [==============================] - 0s 10ms/step - loss: 0.0172 - val_loss: 0.0187\n",
      "Epoch 31/80\n",
      "3/3 [==============================] - 0s 9ms/step - loss: 0.0173 - val_loss: 0.0186\n",
      "Epoch 32/80\n",
      "3/3 [==============================] - 0s 9ms/step - loss: 0.0166 - val_loss: 0.0181\n",
      "Epoch 33/80\n",
      "3/3 [==============================] - 0s 11ms/step - loss: 0.0172 - val_loss: 0.0183\n",
      "Epoch 34/80\n",
      "3/3 [==============================] - 0s 10ms/step - loss: 0.0166 - val_loss: 0.0181\n",
      "Epoch 35/80\n",
      "3/3 [==============================] - 0s 10ms/step - loss: 0.0163 - val_loss: 0.0182\n",
      "Epoch 36/80\n",
      "3/3 [==============================] - 0s 16ms/step - loss: 0.0164 - val_loss: 0.0177\n",
      "Epoch 37/80\n",
      "3/3 [==============================] - 0s 10ms/step - loss: 0.0161 - val_loss: 0.0177\n",
      "Epoch 38/80\n",
      "3/3 [==============================] - 0s 10ms/step - loss: 0.0162 - val_loss: 0.0174\n",
      "Epoch 39/80\n",
      "3/3 [==============================] - 0s 11ms/step - loss: 0.0156 - val_loss: 0.0177\n",
      "Epoch 40/80\n",
      "3/3 [==============================] - 0s 18ms/step - loss: 0.0157 - val_loss: 0.0173\n",
      "Epoch 41/80\n",
      "3/3 [==============================] - 0s 10ms/step - loss: 0.0158 - val_loss: 0.0172\n",
      "Epoch 42/80\n",
      "3/3 [==============================] - 0s 19ms/step - loss: 0.0155 - val_loss: 0.0172\n",
      "Epoch 43/80\n",
      "3/3 [==============================] - 0s 9ms/step - loss: 0.0155 - val_loss: 0.0172\n",
      "Epoch 44/80\n",
      "3/3 [==============================] - 0s 12ms/step - loss: 0.0149 - val_loss: 0.0169\n",
      "Epoch 45/80\n",
      "3/3 [==============================] - 0s 12ms/step - loss: 0.0150 - val_loss: 0.0168\n",
      "Epoch 46/80\n",
      "3/3 [==============================] - 0s 13ms/step - loss: 0.0150 - val_loss: 0.0167\n",
      "Epoch 47/80\n",
      "3/3 [==============================] - 0s 9ms/step - loss: 0.0150 - val_loss: 0.0167\n",
      "Epoch 48/80\n",
      "3/3 [==============================] - 0s 10ms/step - loss: 0.0146 - val_loss: 0.0165\n",
      "Epoch 49/80\n",
      "3/3 [==============================] - 0s 9ms/step - loss: 0.0147 - val_loss: 0.0165\n",
      "Epoch 50/80\n",
      "3/3 [==============================] - 0s 9ms/step - loss: 0.0144 - val_loss: 0.0166\n",
      "Epoch 51/80\n",
      "3/3 [==============================] - 0s 10ms/step - loss: 0.0144 - val_loss: 0.0165\n",
      "Epoch 52/80\n",
      "3/3 [==============================] - 0s 9ms/step - loss: 0.0144 - val_loss: 0.0163\n",
      "Epoch 53/80\n",
      "3/3 [==============================] - 0s 9ms/step - loss: 0.0143 - val_loss: 0.0162\n",
      "Epoch 54/80\n",
      "3/3 [==============================] - 0s 10ms/step - loss: 0.0142 - val_loss: 0.0166\n",
      "Epoch 55/80\n",
      "3/3 [==============================] - 0s 10ms/step - loss: 0.0142 - val_loss: 0.0162\n",
      "Epoch 56/80\n",
      "3/3 [==============================] - 0s 9ms/step - loss: 0.0142 - val_loss: 0.0163\n",
      "Epoch 57/80\n",
      "3/3 [==============================] - 0s 9ms/step - loss: 0.0144 - val_loss: 0.0162\n",
      "Epoch 58/80\n",
      "3/3 [==============================] - 0s 11ms/step - loss: 0.0138 - val_loss: 0.0159\n",
      "Epoch 59/80\n",
      "3/3 [==============================] - 0s 12ms/step - loss: 0.0143 - val_loss: 0.0159\n",
      "Epoch 60/80\n",
      "3/3 [==============================] - 0s 11ms/step - loss: 0.0138 - val_loss: 0.0163\n",
      "Epoch 61/80\n",
      "3/3 [==============================] - 0s 12ms/step - loss: 0.0138 - val_loss: 0.0159\n",
      "Epoch 62/80\n",
      "3/3 [==============================] - 0s 11ms/step - loss: 0.0136 - val_loss: 0.0159\n",
      "Epoch 63/80\n",
      "3/3 [==============================] - 0s 11ms/step - loss: 0.0136 - val_loss: 0.0158\n",
      "Epoch 64/80\n",
      "3/3 [==============================] - 0s 10ms/step - loss: 0.0141 - val_loss: 0.0159\n",
      "Epoch 65/80\n",
      "3/3 [==============================] - 0s 13ms/step - loss: 0.0135 - val_loss: 0.0159\n",
      "Epoch 66/80\n",
      "3/3 [==============================] - 0s 16ms/step - loss: 0.0137 - val_loss: 0.0157\n",
      "Epoch 67/80\n",
      "3/3 [==============================] - 0s 10ms/step - loss: 0.0134 - val_loss: 0.0157\n",
      "Epoch 68/80\n",
      "3/3 [==============================] - 0s 8ms/step - loss: 0.0135 - val_loss: 0.0158\n",
      "Epoch 69/80\n",
      "3/3 [==============================] - 0s 10ms/step - loss: 0.0132 - val_loss: 0.0156\n",
      "Epoch 70/80\n",
      "3/3 [==============================] - 0s 13ms/step - loss: 0.0134 - val_loss: 0.0155\n",
      "Epoch 71/80\n",
      "3/3 [==============================] - 0s 9ms/step - loss: 0.0132 - val_loss: 0.0155\n",
      "Epoch 72/80\n",
      "3/3 [==============================] - 0s 8ms/step - loss: 0.0133 - val_loss: 0.0154\n",
      "Epoch 73/80\n",
      "3/3 [==============================] - 0s 10ms/step - loss: 0.0130 - val_loss: 0.0155\n",
      "Epoch 74/80\n",
      "3/3 [==============================] - 0s 11ms/step - loss: 0.0137 - val_loss: 0.0154\n",
      "Epoch 75/80\n",
      "3/3 [==============================] - 0s 9ms/step - loss: 0.0131 - val_loss: 0.0154\n",
      "Epoch 76/80\n",
      "3/3 [==============================] - 0s 9ms/step - loss: 0.0133 - val_loss: 0.0154\n",
      "Epoch 77/80\n",
      "3/3 [==============================] - 0s 10ms/step - loss: 0.0131 - val_loss: 0.0154\n",
      "Epoch 78/80\n",
      "3/3 [==============================] - 0s 9ms/step - loss: 0.0133 - val_loss: 0.0154\n",
      "Epoch 79/80\n",
      "3/3 [==============================] - 0s 10ms/step - loss: 0.0131 - val_loss: 0.0155\n",
      "Epoch 80/80\n",
      "3/3 [==============================] - 0s 10ms/step - loss: 0.0131 - val_loss: 0.0154\n"
     ]
    }
   ],
   "source": [
    "# train the model\n",
    "# X:학습데이터, Y:정답데이터, epochs=80, validation_data:검증 데이터 \n",
    "r = model.fit(X[:-N//2], Y[:-N//2], epochs=80, validation_data=(X[-N//2:], Y[-N//2:]))"
   ]
  },
  {
   "cell_type": "code",
   "execution_count": 102,
   "id": "c80d18e7-2313-4135-b6d5-b33c6b9c6a84",
   "metadata": {},
   "outputs": [
    {
     "data": {
      "text/plain": [
       "<matplotlib.legend.Legend at 0x1fe8dc4c700>"
      ]
     },
     "execution_count": 102,
     "metadata": {},
     "output_type": "execute_result"
    },
    {
     "data": {
      "image/png": "[encoded data removed]",
      "text/plain": [
       "<Figure size 432x288 with 1 Axes>"
      ]
     },
     "metadata": {
      "needs_background": "light"
     },
     "output_type": "display_data"
    }
   ],
   "source": [
    "plt.plot(r.history['loss'], label='loss')\n",
    "plt.plot(r.history['val_loss'], label='val_loss')\n",
    "plt.legend()"
   ]
  },
  {
   "cell_type": "markdown",
   "id": "cdfdf52a-d7e1-46d7-aaab-78cf3c37175f",
   "metadata": {},
   "source": [
    "## \"Wrong\" forecast using true targets"
   ]
  },
  {
   "cell_type": "code",
   "execution_count": 103,
   "id": "bd5b1d10-9214-4e6d-9a36-fc42e14f1c06",
   "metadata": {},
   "outputs": [],
   "source": [
    "validation_target = Y[-N//2:]\n",
    "validation_predictions = []\n",
    "\n",
    "i = -N//2 \n",
    "while len(validation_predictions) < len(validation_target):\n",
    "    p = model.predict(X[i].reshape(1, -1))[0,0] # 1x1 array -> scalar\n",
    "    i += 1\n",
    "    \n",
    "    validation_predictions.append(p)"
   ]
  },
  {
   "cell_type": "code",
   "execution_count": 104,
   "id": "c4b6722b-fcc5-4986-8830-da7ffc2ef970",
   "metadata": {},
   "outputs": [
    {
     "data": {
      "image/png": "[encoded data removed]",
      "text/plain": [
       "<Figure size 432x288 with 1 Axes>"
      ]
     },
     "metadata": {
      "needs_background": "light"
     },
     "output_type": "display_data"
    }
   ],
   "source": [
    "plt.plot(validation_target, label='forecast_target')\n",
    "plt.plot(validation_predictions, label='forecast_prediction')\n",
    "plt.legend()\n",
    "validation_target = Y[-N//2:]\n",
    "validation_predictions = []\n"
   ]
  },
  {
   "cell_type": "code",
   "execution_count": 105,
   "id": "36c94437-272f-4100-b7e4-08306f9ecbe3",
   "metadata": {},
   "outputs": [
    {
     "name": "stdout",
     "output_type": "stream",
     "text": [
      "95\n",
      "[ 0.06508496 -0.23949512 -0.19956014 -0.23434864 -0.43707002 -0.50284762\n",
      " -0.79254697 -0.74339322 -0.69563308 -0.71146107]\n",
      "[[ 0.06508496 -0.23949512 -0.19956014 -0.23434864 -0.43707002 -0.50284762\n",
      "  -0.79254697 -0.74339322 -0.69563308 -0.71146107]]\n",
      "-0.8566743\n"
     ]
    }
   ],
   "source": [
    "# last train input \n",
    "last_x = X[-N//2]\n",
    "print(len(validation_target))\n",
    "print(last_x)\n",
    "print(last_x.reshape(1, -1))\n",
    "print(model.predict(last_x.reshape(1, -1))[0,0])"
   ]
  },
  {
   "cell_type": "code",
   "execution_count": 106,
   "id": "fdaa901a-79ac-454c-a216-5dbdbb213c5a",
   "metadata": {},
   "outputs": [],
   "source": [
    "while len(validation_predictions) < len(validation_target):\n",
    "    p = model.predict(last_x.reshape(1, -1))[0,0] # 1x1 array -> scalar\n",
    "    validation_predictions.append(p)\n",
    "    \n",
    "    last_x = np.roll(last_x, -1)\n",
    "    last_x[-1] = p"
   ]
  },
  {
   "cell_type": "code",
   "execution_count": 107,
   "id": "b7c1d5a3-5dc7-4c07-a02e-ca5f3a34995d",
   "metadata": {},
   "outputs": [
    {
     "data": {
      "text/plain": [
       "<matplotlib.legend.Legend at 0x1fe8ee90430>"
      ]
     },
     "execution_count": 107,
     "metadata": {},
     "output_type": "execute_result"
    },
    {
     "data": {
      "image/png": "[encoded data removed]",
      "text/plain": [
       "<Figure size 432x288 with 1 Axes>"
      ]
     },
     "metadata": {
      "needs_background": "light"
     },
     "output_type": "display_data"
    }
   ],
   "source": [
    "plt.plot(validation_target, label='forecast_target')\n",
    "plt.plot(validation_predictions, label='forecast_prediction')\n",
    "plt.legend()"
   ]
  },
  {
   "cell_type": "code",
   "execution_count": null,
   "id": "cae9f3ad-26bb-49bf-9e92-0690e48e14d2",
   "metadata": {},
   "outputs": [],
   "source": [
    "# 데이터가 갖고 있는 특성만 기억함\n",
    "# ANN 은 위치만 기억한."
   ]
  },
  {
   "cell_type": "code",
   "execution_count": null,
   "id": "b7ed5725-215f-4d7b-9942-fa6d4acaaa77",
   "metadata": {},
   "outputs": [],
   "source": []
  },
  {
   "cell_type": "code",
   "execution_count": null,
   "id": "19ad25cb-b6a5-4aa0-8f3f-d03ee61d5e88",
   "metadata": {},
   "outputs": [],
   "source": []
  },
  {
   "cell_type": "code",
   "execution_count": null,
   "id": "6dc33620-c30e-4dbe-a551-728e3cc7ea34",
   "metadata": {},
   "outputs": [],
   "source": []
  },
  {
   "cell_type": "code",
   "execution_count": null,
   "id": "69720343-a38d-4013-a75a-2020a6f0a748",
   "metadata": {},
   "outputs": [],
   "source": []
  },
  {
   "cell_type": "code",
   "execution_count": null,
   "id": "4ec1c06c-3a49-44e4-a0fd-46274441ea5f",
   "metadata": {},
   "outputs": [],
   "source": []
  },
  {
   "cell_type": "code",
   "execution_count": null,
   "id": "59262070-a710-4b2f-b54c-e3511397ccda",
   "metadata": {},
   "outputs": [],
   "source": []
  },
  {
   "cell_type": "code",
   "execution_count": null,
   "id": "88429666-9a8a-4446-87d0-0be73b632fe4",
   "metadata": {},
   "outputs": [],
   "source": []
  },
  {
   "cell_type": "code",
   "execution_count": null,
   "id": "418fed7d-0566-4169-851b-e91a1d45e3d4",
   "metadata": {},
   "outputs": [],
   "source": []
  },
  {
   "cell_type": "code",
   "execution_count": null,
   "id": "929be110-1531-45df-9845-158872c107a2",
   "metadata": {},
   "outputs": [],
   "source": []
  },
  {
   "cell_type": "code",
   "execution_count": null,
   "id": "b8a6b8cd-6727-4e11-a6ee-efaee172e607",
   "metadata": {},
   "outputs": [],
   "source": []
  },
  {
   "cell_type": "code",
   "execution_count": null,
   "id": "2333e302-8831-4986-8ba8-09f9f3bf6ed9",
   "metadata": {},
   "outputs": [],
   "source": []
  },
  {
   "cell_type": "code",
   "execution_count": null,
   "id": "20bc8d63-71f7-4826-919a-83b48678b870",
   "metadata": {},
   "outputs": [],
   "source": []
  },
  {
   "cell_type": "code",
   "execution_count": null,
   "id": "c84b3390-9164-4756-80a4-765d3d5d05ff",
   "metadata": {},
   "outputs": [],
   "source": []
  },
  {
   "cell_type": "code",
   "execution_count": null,
   "id": "fe98a42c-8bc3-4250-ba84-6faf3f471611",
   "metadata": {},
   "outputs": [],
   "source": []
  },
  {
   "cell_type": "code",
   "execution_count": null,
   "id": "fa052e4c-a122-46ab-8bd4-ed1d7e6c52e0",
   "metadata": {},
   "outputs": [],
   "source": []
  },
  {
   "cell_type": "code",
   "execution_count": null,
   "id": "e57391f6-18d4-44b6-be43-c63f2c70273f",
   "metadata": {},
   "outputs": [],
   "source": []
  },
  {
   "cell_type": "code",
   "execution_count": null,
   "id": "98ebe4e4-6629-4fcc-b203-cc220a4fae08",
   "metadata": {},
   "outputs": [],
   "source": []
  }
 ],
 "metadata": {
  "kernelspec": {
   "display_name": "Python 3 (ipykernel)",
   "language": "python",
   "name": "python3"
  },
  "language_info": {
   "codemirror_mode": {
    "name": "ipython",
    "version": 3
   },
   "file_extension": ".py",
   "mimetype": "text/x-python",
   "name": "python",
   "nbconvert_exporter": "python",
   "pygments_lexer": "ipython3",
   "version": "3.9.7"
  }
 },
 "nbformat": 4,
 "nbformat_minor": 5
}
