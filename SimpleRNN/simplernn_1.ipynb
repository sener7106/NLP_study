{
 "cells": [
  {
   "cell_type": "code",
   "execution_count": 2,
   "id": "7333128d-a22d-48d7-8bca-d25d0fe1403a",
   "metadata": {},
   "outputs": [],
   "source": [
    "from tensorflow.keras.layers import Input, Dense, SimpleRNN, Flatten\n",
    "from tensorflow.keras.models import Model\n",
    "from tensorflow.keras.optimizers import SGD, Adam"
   ]
  },
  {
   "cell_type": "code",
   "execution_count": 3,
   "id": "ba9bb214-f15f-46e9-9aad-d7786acfbe51",
   "metadata": {},
   "outputs": [],
   "source": [
    "import numpy as np\n",
    "import pandas as pd\n",
    "import matplotlib.pyplot as plt"
   ]
  },
  {
   "cell_type": "code",
   "execution_count": 4,
   "id": "9a619eea-ff50-468c-923f-b1e0a822d4da",
   "metadata": {},
   "outputs": [
    {
     "data": {
      "image/png": "[encoded data removed]",
      "text/plain": [
       "<Figure size 432x288 with 1 Axes>"
      ]
     },
     "metadata": {
      "needs_background": "light"
     },
     "output_type": "display_data"
    }
   ],
   "source": [
    "series = np.sin(0.1 * np.arange(200)) + np.random.randn(200) * 0.1\n",
    "plt.plot(series)\n",
    "plt.show()"
   ]
  },
  {
   "cell_type": "code",
   "execution_count": 5,
   "id": "ea998a72-be7c-4cbf-b57c-e4b54a35ca43",
   "metadata": {},
   "outputs": [
    {
     "data": {
      "text/plain": [
       "(190, 10)"
      ]
     },
     "execution_count": 5,
     "metadata": {},
     "output_type": "execute_result"
    }
   ],
   "source": [
    "# build the dataset\n",
    "\n",
    "T = 10\n",
    "X = []\n",
    "Y = []\n",
    "for t in range(len(series) - T) :\n",
    "    x = series[t:t+T]\n",
    "    X.append(x)\n",
    "    y = series[t + T]\n",
    "    Y.append(Y)\n",
    "    \n",
    "np.array(X).shape\n",
    "# np..array(Y). sjhape"
   ]
  },
  {
   "cell_type": "code",
   "execution_count": 6,
   "id": "93e12b1a-f481-43b5-8c75-9eb2eabe1f4d",
   "metadata": {},
   "outputs": [],
   "source": [
    "# # sequences data -> N x T x D -> 190 x 10 x 1\n",
    "# X = np.array(X).reshape(-1, T, 1)\n",
    "# Y = np.array(Y)\n",
    "\n",
    "# #print(f\"X.shape:{X.shape}, Y.shape:{Y.shape}, N.length:{N}\")"
   ]
  },
  {
   "cell_type": "code",
   "execution_count": 7,
   "id": "481c8fff-68e2-43c5-bccf-22fefb676f06",
   "metadata": {},
   "outputs": [
    {
     "name": "stderr",
     "output_type": "stream",
     "text": [
      "C:\\ProgramData\\Anaconda3\\lib\\site-packages\\keras\\optimizer_v2\\adam.py:105: UserWarning: The `lr` argument is deprecated, use `learning_rate` instead.\n",
      "  super(Adam, self).__init__(name, **kwargs)\n"
     ]
    }
   ],
   "source": [
    "# build a RNN Model\n",
    "# 1. Input\n",
    "i = Input(shape = (T, 1)) # T x D\n",
    "# 2. SimpleRNN(5, activation= 'relu')\n",
    "x = SimpleRNN(5, activation='relu')(i)\n",
    "# 3. Output\n",
    "x = Dense(1)(x)\n",
    "model = Model(i, x)\n",
    "# Quiz. trainable params - >  41 = hidden weights + current weights + bias\n",
    "# = {features * unit} + {unit * unit} + {feature * unit}\n",
    "model.compile(loss='mse', optimizer=Adam(lr=0.1))"
   ]
  },
  {
   "cell_type": "code",
   "execution_count": 8,
   "id": "9e223b08-97fb-479d-b62d-2f3d72e2a671",
   "metadata": {},
   "outputs": [],
   "source": [
    "N = len(X)"
   ]
  },
  {
   "cell_type": "code",
   "execution_count": 9,
   "id": "73893589-f73b-44a9-b2f6-a01348c019b3",
   "metadata": {},
   "outputs": [
    {
     "name": "stdout",
     "output_type": "stream",
     "text": [
      "Model: \"model\"\n",
      "_________________________________________________________________\n",
      " Layer (type)                Output Shape              Param #   \n",
      "=================================================================\n",
      " input_1 (InputLayer)        [(None, 10, 1)]           0         \n",
      "                                                                 \n",
      " simple_rnn (SimpleRNN)      (None, 5)                 35        \n",
      "                                                                 \n",
      " dense (Dense)               (None, 1)                 6         \n",
      "                                                                 \n",
      "=================================================================\n",
      "Total params: 41\n",
      "Trainable params: 41\n",
      "Non-trainable params: 0\n",
      "_________________________________________________________________\n"
     ]
    }
   ],
   "source": [
    "model.summary()"
   ]
  },
  {
   "cell_type": "code",
   "execution_count": null,
   "id": "775e0d3e-1523-48cd-bd0f-5b7c2fa87960",
   "metadata": {},
   "outputs": [],
   "source": [
    "# train the RNN\n",
    "r = model.fit(X[: -N//2], Y[:-N//2], epochs= 80)\n"
   ]
  },
  {
   "cell_type": "code",
   "execution_count": null,
   "id": "6268a2a6-72dd-4df0-b57a-e020b6525683",
   "metadata": {},
   "outputs": [],
   "source": []
  },
  {
   "cell_type": "code",
   "execution_count": null,
   "id": "0280ffc5-be3e-4a34-b53f-9613189ab2e2",
   "metadata": {},
   "outputs": [],
   "source": []
  },
  {
   "cell_type": "code",
   "execution_count": null,
   "id": "83480771-1b56-43e8-b8eb-63ef923879c1",
   "metadata": {},
   "outputs": [],
   "source": []
  },
  {
   "cell_type": "code",
   "execution_count": null,
   "id": "a83a7d2b-c95b-4f0c-a878-dd9bdb05852c",
   "metadata": {},
   "outputs": [],
   "source": []
  },
  {
   "cell_type": "code",
   "execution_count": null,
   "id": "e5f659c3-7225-419b-87c8-471883afdb21",
   "metadata": {},
   "outputs": [],
   "source": []
  },
  {
   "cell_type": "code",
   "execution_count": null,
   "id": "d8244042-c742-4cc6-acf2-ff58c1a81385",
   "metadata": {},
   "outputs": [],
   "source": []
  },
  {
   "cell_type": "code",
   "execution_count": null,
   "id": "968530ee-62de-406c-a868-f4266fa641d2",
   "metadata": {},
   "outputs": [],
   "source": []
  }
 ],
 "metadata": {
  "kernelspec": {
   "display_name": "Python 3 (ipykernel)",
   "language": "python",
   "name": "python3"
  },
  "language_info": {
   "codemirror_mode": {
    "name": "ipython",
    "version": 3
   },
   "file_extension": ".py",
   "mimetype": "text/x-python",
   "name": "python",
   "nbconvert_exporter": "python",
   "pygments_lexer": "ipython3",
   "version": "3.9.7"
  }
 },
 "nbformat": 4,
 "nbformat_minor": 5
}
