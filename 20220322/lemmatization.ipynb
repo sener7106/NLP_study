{
 "cells": [
  {
   "cell_type": "markdown",
   "id": "890870a1-d381-4965-ac70-d1b57f9a278f",
   "metadata": {},
   "source": [
    "## Lemmatization\n",
    " - 표제어 -> 주어진 단어의 사전적인 어원을 찾는과정"
   ]
  },
  {
   "cell_type": "code",
   "execution_count": 2,
   "id": "4dfc5113-e1e9-4845-8bae-c16ae511efad",
   "metadata": {},
   "outputs": [],
   "source": [
    "from nltk.stem import WordNetLemmatizer"
   ]
  },
  {
   "cell_type": "code",
   "execution_count": 3,
   "id": "f52b7292-4f69-44d2-a065-63bcdc38fb09",
   "metadata": {},
   "outputs": [],
   "source": [
    "lemmatizer = WordNetLemmatizer()\n",
    "\n",
    "words = ['policy', 'doing', 'organization', 'have', 'going', 'love' , 'lives', \\\n",
    "        'fly', 'dies', 'watched', 'has', 'starting']"
   ]
  },
  {
   "cell_type": "code",
   "execution_count": 4,
   "id": "3a62b88d-9f0e-4acc-bec4-9ed0c34c5ec4",
   "metadata": {},
   "outputs": [
    {
     "name": "stdout",
     "output_type": "stream",
     "text": [
      "표제어 추출: ['policy', 'doing', 'organization', 'have', 'going', 'love', 'life', 'fly', 'dy', 'watched', 'ha', 'starting']\n"
     ]
    }
   ],
   "source": [
    "print(\"표제어 추출:\", [lemmatizer.lemmatize(word) for word in words])"
   ]
  },
  {
   "cell_type": "code",
   "execution_count": null,
   "id": "e54e4c68-1b13-4926-a1cb-992efac45d77",
   "metadata": {},
   "outputs": [],
   "source": []
  }
 ],
 "metadata": {
  "kernelspec": {
   "display_name": "Python 3 (ipykernel)",
   "language": "python",
   "name": "python3"
  },
  "language_info": {
   "codemirror_mode": {
    "name": "ipython",
    "version": 3
   },
   "file_extension": ".py",
   "mimetype": "text/x-python",
   "name": "python",
   "nbconvert_exporter": "python",
   "pygments_lexer": "ipython3",
   "version": "3.9.7"
  }
 },
 "nbformat": 4,
 "nbformat_minor": 5
}
