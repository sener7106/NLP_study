{
 "cells": [
  {
   "cell_type": "code",
   "execution_count": 2,
   "id": "aaf089f0-cc04-4929-b487-34d2cec8ed42",
   "metadata": {},
   "outputs": [],
   "source": [
    "from nltk.stem import PorterStemmer\n",
    "from nltk.tokenize import word_tokenize"
   ]
  },
  {
   "cell_type": "markdown",
   "id": "ee2dc864-aa39-43eb-8e57-a976d5b52bbd",
   "metadata": {},
   "source": [
    "#한국어는 원활하게 안되는 경우도 있음 -> konlpy"
   ]
  },
  {
   "cell_type": "code",
   "execution_count": 4,
   "id": "2d9a9113-49cc-433a-8ac2-bb0363c5a1c3",
   "metadata": {},
   "outputs": [],
   "source": [
    "stemmer = PorterStemmer()\n",
    "\n",
    "sentence = \"U.S. lawmakers moved to revoke Russia’s normal trade status and ban its oil and gas, and the United Nations suspended the country from the Human Rights Council. The E.U. approved a phased-in ban on Russian coal, and NATO met to discuss military aid to Ukraine\""
   ]
  },
  {
   "cell_type": "code",
   "execution_count": 7,
   "id": "5ec7ec0d-7dc0-4d15-82c0-5dfa50e12d0e",
   "metadata": {},
   "outputs": [],
   "source": [
    "tokenized_sentence = word_tokenize(sentence)"
   ]
  },
  {
   "cell_type": "code",
   "execution_count": 8,
   "id": "b28feaee-c9cd-486d-a5d0-f74096ba2b2e",
   "metadata": {},
   "outputs": [
    {
     "name": "stdout",
     "output_type": "stream",
     "text": [
      "어간 추출 전 : ['U.S.', 'lawmakers', 'moved', 'to', 'revoke', 'Russia', '’', 's', 'normal', 'trade', 'status', 'and', 'ban', 'its', 'oil', 'and', 'gas', ',', 'and', 'the', 'United', 'Nations', 'suspended', 'the', 'country', 'from', 'the', 'Human', 'Rights', 'Council', '.', 'The', 'E.U', '.', 'approved', 'a', 'phased-in', 'ban', 'on', 'Russian', 'coal', ',', 'and', 'NATO', 'met', 'to', 'discuss', 'military', 'aid', 'to', 'Ukraine']\n"
     ]
    }
   ],
   "source": [
    "print(f\"어간 추출 전 : {tokenized_sentence}\")"
   ]
  },
  {
   "cell_type": "code",
   "execution_count": 11,
   "id": "b421e04d-5740-4bc6-9d1c-066120372c8a",
   "metadata": {},
   "outputs": [
    {
     "name": "stdout",
     "output_type": "stream",
     "text": [
      "어간 추출 후 : ['u.s.', 'lawmak', 'move', 'to', 'revok', 'russia', '’', 's', 'normal', 'trade', 'statu', 'and', 'ban', 'it', 'oil', 'and', 'ga', ',', 'and', 'the', 'unit', 'nation', 'suspend', 'the', 'countri', 'from', 'the', 'human', 'right', 'council', '.', 'the', 'e.u', '.', 'approv', 'a', 'phased-in', 'ban', 'on', 'russian', 'coal', ',', 'and', 'nato', 'met', 'to', 'discuss', 'militari', 'aid', 'to', 'ukrain']\n"
     ]
    }
   ],
   "source": [
    "print(f\"어간 추출 후 : {[stemmer.stem(word) for word in tokenized_sentence]}\")"
   ]
  },
  {
   "cell_type": "code",
   "execution_count": 16,
   "id": "d0d7434a-eb5b-4ec3-abf7-23ee00d3c65b",
   "metadata": {},
   "outputs": [
    {
     "name": "stdout",
     "output_type": "stream",
     "text": [
      "어간 추출 전 ['normalize', 'allowance', 'electricical']\n",
      "어간 추출 후 ['normal', 'allow', 'electric']\n"
     ]
    }
   ],
   "source": [
    "words = ['normalize' , 'allowance', 'electricical']\n",
    "\n",
    "print(\"어간 추출 전\" , words)\n",
    "print(\"어간 추출 후\", [stemmer.stem(word) for word in words])"
   ]
  },
  {
   "cell_type": "code",
   "execution_count": 17,
   "id": "ab55f211-7063-4539-9776-fde227506836",
   "metadata": {},
   "outputs": [
    {
     "name": "stdout",
     "output_type": "stream",
     "text": [
      "어간 추출 후 ['norm', 'allow', 'elect']\n"
     ]
    }
   ],
   "source": [
    "from nltk.stem import LancasterStemmer\n",
    "\n",
    "la = LancasterStemmer()\n",
    "\"print(\"어간 추출 후\", [la.stem(word) for word in words])"
   ]
  },
  {
   "cell_type": "code",
   "execution_count": 18,
   "id": "c9258942-d0dd-407a-b65c-3b78e9d9d20a",
   "metadata": {},
   "outputs": [],
   "source": [
    "# stemmer -> 문맥정보를 생각하지 않고 이해하려고 하는 문제"
   ]
  },
  {
   "cell_type": "code",
   "execution_count": 19,
   "id": "762e736c-da36-4e99-b3ec-3212078aeda1",
   "metadata": {},
   "outputs": [],
   "source": [
    "words = ['policy', 'doing', 'organization', 'have', 'going', 'love', 'lives', 'fly']"
   ]
  },
  {
   "cell_type": "code",
   "execution_count": 22,
   "id": "246bfa46-73a4-458d-82f5-47b63b59210e",
   "metadata": {},
   "outputs": [
    {
     "name": "stdout",
     "output_type": "stream",
     "text": [
      "PorterStemmer 어간 추출 후 : ['polici', 'do', 'organ', 'have', 'go', 'love', 'live', 'fli']\n",
      "LancasterStemmer어간 추출 후 ['policy', 'doing', 'org', 'hav', 'going', 'lov', 'liv', 'fly']\n"
     ]
    }
   ],
   "source": [
    "print(f\"PorterStemmer 어간 추출 후 : {[stemmer.stem(word) for word in words]}\")\n",
    "print(\"LancasterStemmer어간 추출 후\", [la.stem(word) for word in words])"
   ]
  },
  {
   "cell_type": "markdown",
   "id": "d377aa0b-48f0-4341-aa71-bd28aa7b42ab",
   "metadata": {},
   "source": []
  },
  {
   "cell_type": "code",
   "execution_count": null,
   "id": "50d36ebe-fc89-4b09-a8aa-d0de47665c87",
   "metadata": {},
   "outputs": [],
   "source": []
  }
 ],
 "metadata": {
  "kernelspec": {
   "display_name": "Python 3 (ipykernel)",
   "language": "python",
   "name": "python3"
  },
  "language_info": {
   "codemirror_mode": {
    "name": "ipython",
    "version": 3
   },
   "file_extension": ".py",
   "mimetype": "text/x-python",
   "name": "python",
   "nbconvert_exporter": "python",
   "pygments_lexer": "ipython3",
   "version": "3.9.7"
  }
 },
 "nbformat": 4,
 "nbformat_minor": 5
}
