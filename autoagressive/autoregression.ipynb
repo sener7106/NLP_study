{
 "cells": [
  {
   "cell_type": "code",
   "execution_count": 43,
   "id": "74a0337c-5a1c-4509-82e5-ac9e989b55fb",
   "metadata": {},
   "outputs": [
    {
     "data": {
      "text/plain": [
       "'2.8.0'"
      ]
     },
     "execution_count": 43,
     "metadata": {},
     "output_type": "execute_result"
    }
   ],
   "source": [
    "import tensorflow as tf\n",
    "tf.__version__"
   ]
  },
  {
   "cell_type": "code",
   "execution_count": 44,
   "id": "673bd707-d9de-470d-9023-4552fc986c07",
   "metadata": {},
   "outputs": [],
   "source": [
    "from tensorflow.keras.layers import Input, Dense\n",
    "from tensorflow.keras.models import Model\n",
    "from tensorflow.keras.optimizers import SGD, Adam\n",
    "\n",
    "import numpy as np\n",
    "import pandas as pd\n",
    "import matplotlib.pyplot as plt"
   ]
  },
  {
   "cell_type": "code",
   "execution_count": 45,
   "id": "19568de2-23ef-4d1b-ae20-611027850d9d",
   "metadata": {},
   "outputs": [],
   "source": [
    "# 모멘텀 - SGD , 모멘텀 + 학습률 - Adam"
   ]
  },
  {
   "cell_type": "code",
   "execution_count": 77,
   "id": "f948a3fc-c635-4ab3-abf5-640124d7a0e8",
   "metadata": {},
   "outputs": [],
   "source": [
    "series = np.sin(0.1 * np.arange(200)) "
   ]
  },
  {
   "cell_type": "code",
   "execution_count": 78,
   "id": "b8d8cb8d-92dd-4de0-9a9a-4293b202cad1",
   "metadata": {},
   "outputs": [
    {
     "data": {
      "image/png": "[encoded data removed]",
      "text/plain": [
       "<Figure size 432x288 with 1 Axes>"
      ]
     },
     "metadata": {
      "needs_background": "light"
     },
     "output_type": "display_data"
    }
   ],
   "source": [
    "plt.plot(series)\n",
    "plt.show()"
   ]
  },
  {
   "cell_type": "markdown",
   "id": "10950b58-8f8f-45a1-bdea-01f6a8c6d1b9",
   "metadata": {},
   "source": [
    "### Build a Dataset"
   ]
  },
  {
   "cell_type": "code",
   "execution_count": 79,
   "id": "974b5d38-7dd8-42e2-92d3-fcfa13afae57",
   "metadata": {
    "tags": []
   },
   "outputs": [],
   "source": [
    "T = 10 # window size\n",
    "X = []\n",
    "Y = []"
   ]
  },
  {
   "cell_type": "code",
   "execution_count": 80,
   "id": "d02dba0d-330f-4796-a9ed-d1edda89453a",
   "metadata": {
    "tags": []
   },
   "outputs": [],
   "source": [
    "for t in range(len(series) - T):\n",
    "    x = series[t : t+T]\n",
    "    X.append(x)\n",
    "    y = series[t+T]\n",
    "    Y.append(y)"
   ]
  },
  {
   "cell_type": "code",
   "execution_count": 81,
   "id": "3bfb7465-6436-41af-b7f4-84fb8584c5d6",
   "metadata": {},
   "outputs": [
    {
     "name": "stdout",
     "output_type": "stream",
     "text": [
      "X.shape:(190, 10), Y.shape:(190,), N.length:190\n"
     ]
    }
   ],
   "source": [
    "X = np.array(X).reshape(-1 ,T)\n",
    "Y = np.array(Y)\n",
    "N = len(X)\n",
    "print(f\"X.shape:{X.shape}, Y.shape:{Y.shape}, N.length:{N}\")"
   ]
  },
  {
   "cell_type": "code",
   "execution_count": 82,
   "id": "c62aaf05-d3b2-471f-8a40-5f9623eed9f2",
   "metadata": {},
   "outputs": [
    {
     "name": "stdout",
     "output_type": "stream",
     "text": [
      "Model: \"model_2\"\n",
      "_________________________________________________________________\n",
      " Layer (type)                Output Shape              Param #   \n",
      "=================================================================\n",
      " input_4 (InputLayer)        [(None, 10)]              0         \n",
      "                                                                 \n",
      " dense_3 (Dense)             (None, 1)                 11        \n",
      "                                                                 \n",
      "=================================================================\n",
      "Total params: 11\n",
      "Trainable params: 11\n",
      "Non-trainable params: 0\n",
      "_________________________________________________________________\n"
     ]
    }
   ],
   "source": [
    "# linear model\n",
    "i = Input(shape=(T, ))\n",
    "x = Dense(1)(i)\n",
    "\n",
    "model = Model(i, x)\n",
    "model.summary()"
   ]
  },
  {
   "cell_type": "code",
   "execution_count": null,
   "id": "923f64a5-9ed0-404f-ac9e-8e2a6d257e14",
   "metadata": {},
   "outputs": [],
   "source": []
  },
  {
   "cell_type": "code",
   "execution_count": 83,
   "id": "90119072-aac5-4fa5-8b56-5aa9619c364a",
   "metadata": {},
   "outputs": [
    {
     "name": "stderr",
     "output_type": "stream",
     "text": [
      "C:\\ProgramData\\Anaconda3\\lib\\site-packages\\keras\\optimizer_v2\\adam.py:105: UserWarning: The `lr` argument is deprecated, use `learning_rate` instead.\n",
      "  super(Adam, self).__init__(name, **kwargs)\n"
     ]
    }
   ],
   "source": [
    "model.compile(loss='mse', optimizer=Adam(lr=0.1))"
   ]
  },
  {
   "cell_type": "code",
   "execution_count": 84,
   "id": "13e14524-ff9b-421b-b324-48514f0708ce",
   "metadata": {},
   "outputs": [
    {
     "name": "stdout",
     "output_type": "stream",
     "text": [
      "Epoch 1/80\n",
      "3/3 [==============================] - 0s 33ms/step - loss: 0.7078 - val_loss: 0.6198\n",
      "Epoch 2/80\n",
      "3/3 [==============================] - 0s 8ms/step - loss: 0.3246 - val_loss: 0.1938\n",
      "Epoch 3/80\n",
      "3/3 [==============================] - 0s 9ms/step - loss: 0.1252 - val_loss: 0.0177\n",
      "Epoch 4/80\n",
      "3/3 [==============================] - 0s 10ms/step - loss: 0.0131 - val_loss: 0.0339\n",
      "Epoch 5/80\n",
      "3/3 [==============================] - 0s 8ms/step - loss: 0.0508 - val_loss: 0.0857\n",
      "Epoch 6/80\n",
      "3/3 [==============================] - 0s 9ms/step - loss: 0.0724 - val_loss: 0.1084\n",
      "Epoch 7/80\n",
      "3/3 [==============================] - 0s 9ms/step - loss: 0.0711 - val_loss: 0.0576\n",
      "Epoch 8/80\n",
      "3/3 [==============================] - 0s 8ms/step - loss: 0.0499 - val_loss: 0.0247\n",
      "Epoch 9/80\n",
      "3/3 [==============================] - 0s 9ms/step - loss: 0.0223 - val_loss: 0.0103\n",
      "Epoch 10/80\n",
      "3/3 [==============================] - 0s 9ms/step - loss: 0.0102 - val_loss: 0.0039\n",
      "Epoch 11/80\n",
      "3/3 [==============================] - 0s 9ms/step - loss: 0.0049 - val_loss: 0.0065\n",
      "Epoch 12/80\n",
      "3/3 [==============================] - 0s 10ms/step - loss: 0.0085 - val_loss: 0.0131\n",
      "Epoch 13/80\n",
      "3/3 [==============================] - 0s 9ms/step - loss: 0.0126 - val_loss: 0.0088\n",
      "Epoch 14/80\n",
      "3/3 [==============================] - 0s 8ms/step - loss: 0.0082 - val_loss: 0.0063\n",
      "Epoch 15/80\n",
      "3/3 [==============================] - 0s 9ms/step - loss: 0.0037 - val_loss: 0.0018\n",
      "Epoch 16/80\n",
      "3/3 [==============================] - 0s 8ms/step - loss: 0.0015 - val_loss: 4.4658e-04\n",
      "Epoch 17/80\n",
      "3/3 [==============================] - 0s 9ms/step - loss: 8.1095e-04 - val_loss: 0.0015\n",
      "Epoch 18/80\n",
      "3/3 [==============================] - 0s 9ms/step - loss: 0.0017 - val_loss: 0.0032\n",
      "Epoch 19/80\n",
      "3/3 [==============================] - 0s 8ms/step - loss: 0.0021 - val_loss: 0.0021\n",
      "Epoch 20/80\n",
      "3/3 [==============================] - 0s 9ms/step - loss: 0.0012 - val_loss: 5.3798e-04\n",
      "Epoch 21/80\n",
      "3/3 [==============================] - 0s 9ms/step - loss: 2.3292e-04 - val_loss: 7.4331e-05\n",
      "Epoch 22/80\n",
      "3/3 [==============================] - 0s 8ms/step - loss: 1.4426e-04 - val_loss: 3.5454e-04\n",
      "Epoch 23/80\n",
      "3/3 [==============================] - 0s 9ms/step - loss: 2.9356e-04 - val_loss: 4.5615e-04\n",
      "Epoch 24/80\n",
      "3/3 [==============================] - 0s 8ms/step - loss: 3.2800e-04 - val_loss: 3.5311e-04\n",
      "Epoch 25/80\n",
      "3/3 [==============================] - 0s 9ms/step - loss: 2.8132e-04 - val_loss: 1.1850e-04\n",
      "Epoch 26/80\n",
      "3/3 [==============================] - 0s 10ms/step - loss: 1.0815e-04 - val_loss: 8.7577e-06\n",
      "Epoch 27/80\n",
      "3/3 [==============================] - 0s 9ms/step - loss: 2.0460e-05 - val_loss: 3.1419e-05\n",
      "Epoch 28/80\n",
      "3/3 [==============================] - 0s 9ms/step - loss: 7.0166e-05 - val_loss: 8.9509e-05\n",
      "Epoch 29/80\n",
      "3/3 [==============================] - 0s 9ms/step - loss: 8.5269e-05 - val_loss: 7.2590e-05\n",
      "Epoch 30/80\n",
      "3/3 [==============================] - 0s 9ms/step - loss: 4.5028e-05 - val_loss: 2.8905e-05\n",
      "Epoch 31/80\n",
      "3/3 [==============================] - 0s 9ms/step - loss: 2.0723e-05 - val_loss: 6.2490e-06\n",
      "Epoch 32/80\n",
      "3/3 [==============================] - 0s 9ms/step - loss: 7.4155e-06 - val_loss: 9.2760e-06\n",
      "Epoch 33/80\n",
      "3/3 [==============================] - 0s 8ms/step - loss: 1.4562e-05 - val_loss: 2.8894e-05\n",
      "Epoch 34/80\n",
      "3/3 [==============================] - 0s 9ms/step - loss: 2.0557e-05 - val_loss: 1.7617e-05\n",
      "Epoch 35/80\n",
      "3/3 [==============================] - 0s 9ms/step - loss: 1.2044e-05 - val_loss: 6.2949e-06\n",
      "Epoch 36/80\n",
      "3/3 [==============================] - 0s 9ms/step - loss: 3.8091e-06 - val_loss: 9.3419e-06\n",
      "Epoch 37/80\n",
      "3/3 [==============================] - 0s 9ms/step - loss: 4.7121e-06 - val_loss: 6.7002e-06\n",
      "Epoch 38/80\n",
      "3/3 [==============================] - 0s 8ms/step - loss: 6.5224e-06 - val_loss: 5.9612e-06\n",
      "Epoch 39/80\n",
      "3/3 [==============================] - 0s 10ms/step - loss: 6.1492e-06 - val_loss: 2.6830e-06\n",
      "Epoch 40/80\n",
      "3/3 [==============================] - 0s 10ms/step - loss: 3.0700e-06 - val_loss: 3.8033e-08\n",
      "Epoch 41/80\n",
      "3/3 [==============================] - 0s 9ms/step - loss: 1.3430e-06 - val_loss: 9.7854e-07\n",
      "Epoch 42/80\n",
      "3/3 [==============================] - 0s 8ms/step - loss: 2.1358e-06 - val_loss: 1.9751e-06\n",
      "Epoch 43/80\n",
      "3/3 [==============================] - 0s 15ms/step - loss: 1.6704e-06 - val_loss: 1.9440e-06\n",
      "Epoch 44/80\n",
      "3/3 [==============================] - 0s 11ms/step - loss: 1.3598e-06 - val_loss: 1.7368e-06\n",
      "Epoch 45/80\n",
      "3/3 [==============================] - 0s 10ms/step - loss: 6.2499e-07 - val_loss: 6.0109e-07\n",
      "Epoch 46/80\n",
      "3/3 [==============================] - 0s 16ms/step - loss: 5.8284e-07 - val_loss: 5.8937e-07\n",
      "Epoch 47/80\n",
      "3/3 [==============================] - 0s 10ms/step - loss: 5.9494e-07 - val_loss: 5.3841e-07\n",
      "Epoch 48/80\n",
      "3/3 [==============================] - 0s 9ms/step - loss: 3.2942e-07 - val_loss: 6.5247e-08\n",
      "Epoch 49/80\n",
      "3/3 [==============================] - 0s 9ms/step - loss: 1.8072e-07 - val_loss: 1.0037e-07\n",
      "Epoch 50/80\n",
      "3/3 [==============================] - 0s 10ms/step - loss: 1.3949e-07 - val_loss: 1.0814e-07\n",
      "Epoch 51/80\n",
      "3/3 [==============================] - 0s 9ms/step - loss: 1.4745e-07 - val_loss: 8.3448e-08\n",
      "Epoch 52/80\n",
      "3/3 [==============================] - 0s 9ms/step - loss: 1.0722e-07 - val_loss: 3.1333e-08\n",
      "Epoch 53/80\n",
      "3/3 [==============================] - 0s 9ms/step - loss: 2.2223e-08 - val_loss: 2.9800e-08\n",
      "Epoch 54/80\n",
      "3/3 [==============================] - 0s 9ms/step - loss: 2.5129e-08 - val_loss: 3.2899e-08\n",
      "Epoch 55/80\n",
      "3/3 [==============================] - 0s 9ms/step - loss: 3.6351e-08 - val_loss: 3.2061e-08\n",
      "Epoch 56/80\n",
      "3/3 [==============================] - 0s 10ms/step - loss: 2.3812e-08 - val_loss: 3.6020e-08\n",
      "Epoch 57/80\n",
      "3/3 [==============================] - 0s 10ms/step - loss: 1.4364e-08 - val_loss: 8.1450e-09\n",
      "Epoch 58/80\n",
      "3/3 [==============================] - 0s 8ms/step - loss: 9.1393e-09 - val_loss: 1.7195e-08\n",
      "Epoch 59/80\n",
      "3/3 [==============================] - 0s 10ms/step - loss: 1.3722e-08 - val_loss: 2.0241e-08\n",
      "Epoch 60/80\n",
      "3/3 [==============================] - 0s 9ms/step - loss: 7.9742e-09 - val_loss: 1.1476e-08\n",
      "Epoch 61/80\n",
      "3/3 [==============================] - 0s 8ms/step - loss: 5.7095e-09 - val_loss: 4.4352e-09\n",
      "Epoch 62/80\n",
      "3/3 [==============================] - 0s 10ms/step - loss: 3.8974e-09 - val_loss: 5.5967e-09\n",
      "Epoch 63/80\n",
      "3/3 [==============================] - 0s 10ms/step - loss: 4.3821e-09 - val_loss: 4.6935e-09\n",
      "Epoch 64/80\n",
      "3/3 [==============================] - 0s 9ms/step - loss: 2.2205e-09 - val_loss: 2.1663e-09\n",
      "Epoch 65/80\n",
      "3/3 [==============================] - 0s 9ms/step - loss: 1.3193e-09 - val_loss: 1.3633e-09\n",
      "Epoch 66/80\n",
      "3/3 [==============================] - 0s 9ms/step - loss: 1.4750e-09 - val_loss: 1.8901e-09\n",
      "Epoch 67/80\n",
      "3/3 [==============================] - 0s 9ms/step - loss: 1.2984e-09 - val_loss: 2.0374e-09\n",
      "Epoch 68/80\n",
      "3/3 [==============================] - 0s 9ms/step - loss: 7.1924e-10 - val_loss: 7.5491e-10\n",
      "Epoch 69/80\n",
      "3/3 [==============================] - 0s 10ms/step - loss: 5.1518e-10 - val_loss: 5.4062e-10\n",
      "Epoch 70/80\n",
      "3/3 [==============================] - 0s 9ms/step - loss: 4.3394e-10 - val_loss: 9.8903e-10\n",
      "Epoch 71/80\n",
      "3/3 [==============================] - 0s 9ms/step - loss: 4.2350e-10 - val_loss: 1.9213e-10\n",
      "Epoch 72/80\n",
      "3/3 [==============================] - 0s 12ms/step - loss: 1.0958e-10 - val_loss: 9.9618e-11\n",
      "Epoch 73/80\n",
      "3/3 [==============================] - 0s 17ms/step - loss: 9.8347e-11 - val_loss: 1.5187e-10\n",
      "Epoch 74/80\n",
      "3/3 [==============================] - 0s 9ms/step - loss: 9.0592e-11 - val_loss: 1.1129e-10\n",
      "Epoch 75/80\n",
      "3/3 [==============================] - 0s 9ms/step - loss: 8.6699e-11 - val_loss: 1.6429e-11\n",
      "Epoch 76/80\n",
      "3/3 [==============================] - 0s 9ms/step - loss: 2.6340e-11 - val_loss: 7.6747e-12\n",
      "Epoch 77/80\n",
      "3/3 [==============================] - 0s 10ms/step - loss: 3.3189e-11 - val_loss: 1.5491e-11\n",
      "Epoch 78/80\n",
      "3/3 [==============================] - 0s 10ms/step - loss: 2.8939e-11 - val_loss: 1.5296e-11\n",
      "Epoch 79/80\n",
      "3/3 [==============================] - 0s 9ms/step - loss: 2.0390e-11 - val_loss: 3.1732e-12\n",
      "Epoch 80/80\n",
      "3/3 [==============================] - 0s 10ms/step - loss: 9.6652e-12 - val_loss: 8.8326e-12\n"
     ]
    }
   ],
   "source": [
    "# train the model\n",
    "# X : 학습데이터, Y : 정답데이터 , epochs = 80, validation_data: 검증데이터\n",
    "r = model.fit(X[:-N//2], Y[:-N//2], epochs = 80, validation_data=(X[-N//2:], Y[-N//2:]))"
   ]
  },
  {
   "cell_type": "code",
   "execution_count": 85,
   "id": "1456f5b4-7893-4bb0-a241-ad7294e2c8e4",
   "metadata": {
    "jupyter": {
     "source_hidden": true
    },
    "tags": []
   },
   "outputs": [
    {
     "data": {
      "text/plain": [
       "<matplotlib.legend.Legend at 0x191b64faa30>"
      ]
     },
     "execution_count": 85,
     "metadata": {},
     "output_type": "execute_result"
    },
    {
     "data": {
      "image/png": "[encoded data removed]",
      "text/plain": [
       "<Figure size 432x288 with 1 Axes>"
      ]
     },
     "metadata": {
      "needs_background": "light"
     },
     "output_type": "display_data"
    }
   ],
   "source": [
    "plt.plot(r.history['loss'], label='loss')\n",
    "plt.plot(r.history['val_loss'], label='val_loss')\n",
    "plt.legend()"
   ]
  },
  {
   "cell_type": "markdown",
   "id": "f07f3a65-5ce1-4d5a-9c47-cd090ed42aa8",
   "metadata": {},
   "source": [
    "### \"Wrong\" forecast using true target"
   ]
  },
  {
   "cell_type": "code",
   "execution_count": 86,
   "id": "d355e4a7-675b-4999-b5ef-d59ce11efa47",
   "metadata": {},
   "outputs": [],
   "source": [
    "validation_target = Y[-N//2:]\n",
    "validation_predictions = []\n",
    "\n",
    "i = -N //2\n",
    "\n",
    "while len(validation_predictions) < len(validation_target) :\n",
    "    p = model.predict(X[i].reshape(1, -1))[0, 0] # 1x1 array -> Scalar\n",
    "    i += 1\n",
    "    \n",
    "    validation_predictions.append(p)"
   ]
  },
  {
   "cell_type": "code",
   "execution_count": 87,
   "id": "2b4e24d2-7cb8-4fb1-96f9-f92e75c0b717",
   "metadata": {},
   "outputs": [
    {
     "data": {
      "text/plain": [
       "<matplotlib.legend.Legend at 0x191b7680400>"
      ]
     },
     "execution_count": 87,
     "metadata": {},
     "output_type": "execute_result"
    },
    {
     "data": {
      "image/png": "[encoded data removed]",
      "text/plain": [
       "<Figure size 432x288 with 1 Axes>"
      ]
     },
     "metadata": {
      "needs_background": "light"
     },
     "output_type": "display_data"
    }
   ],
   "source": [
    "plt.plot(validation_target, label = 'forecast_target')\n",
    "plt.plot(validation_predictions, label = 'forecast_target')\n",
    "plt.legend()"
   ]
  },
  {
   "cell_type": "code",
   "execution_count": 88,
   "id": "b25e1238-7e21-4b4e-bac9-c6505b445a27",
   "metadata": {},
   "outputs": [],
   "source": [
    "validation_target = Y[-N//2:]\n",
    "validation_predictions = []\n",
    "\n",
    "i = -N //2\n",
    "# last_train input\n",
    "last_x = X[-N//2] \n"
   ]
  },
  {
   "cell_type": "code",
   "execution_count": 89,
   "id": "0ea66964-1cf9-4cbf-9470-374021db178c",
   "metadata": {},
   "outputs": [
    {
     "name": "stdout",
     "output_type": "stream",
     "text": [
      "95\n",
      "[-0.07515112 -0.17432678 -0.27176063 -0.36647913 -0.45753589 -0.54402111\n",
      " -0.62507065 -0.69987469 -0.76768581 -0.82782647]\n"
     ]
    }
   ],
   "source": [
    "print(len(validation_target))\n",
    "print(last_x)"
   ]
  },
  {
   "cell_type": "code",
   "execution_count": 90,
   "id": "bc9bf964-f957-430c-b240-4e2b6c5cee6b",
   "metadata": {},
   "outputs": [
    {
     "name": "stdout",
     "output_type": "stream",
     "text": [
      "[[-0.07515112 -0.17432678 -0.27176063 -0.36647913 -0.45753589 -0.54402111\n",
      "  -0.62507065 -0.69987469 -0.76768581 -0.82782647]]\n"
     ]
    }
   ],
   "source": [
    "print(last_x.reshape(1, -1))"
   ]
  },
  {
   "cell_type": "code",
   "execution_count": 91,
   "id": "fc6f90c5-0d59-4cbb-90e3-be9213054267",
   "metadata": {},
   "outputs": [
    {
     "name": "stdout",
     "output_type": "stream",
     "text": [
      "-0.8796963\n"
     ]
    }
   ],
   "source": [
    "print(model.predict(last_x.reshape(1,-1))[0,0])"
   ]
  },
  {
   "cell_type": "code",
   "execution_count": 92,
   "id": "18b2b7dd-c050-4cbb-9dd5-60e227d3cd75",
   "metadata": {},
   "outputs": [],
   "source": [
    "while len(validation_predictions) < len(validation_target) :\n",
    "    p = model.predict(last_x.reshape(1,-1))[0, 0] # 1 x 1 array -> scalar\n",
    "    validation_predictions.append(p)\n",
    "    \n",
    "    last_x = np.roll(last_x, -1) # circular 회전 시켜줌.\n",
    "    last_x[-1] = p"
   ]
  },
  {
   "cell_type": "code",
   "execution_count": 93,
   "id": "f327279f-d43e-4f91-bf1f-e592058a2391",
   "metadata": {},
   "outputs": [
    {
     "data": {
      "text/plain": [
       "<matplotlib.legend.Legend at 0x191b77a7340>"
      ]
     },
     "execution_count": 93,
     "metadata": {},
     "output_type": "execute_result"
    },
    {
     "data": {
      "image/png": "[encoded data removed]",
      "text/plain": [
       "<Figure size 432x288 with 1 Axes>"
      ]
     },
     "metadata": {
      "needs_background": "light"
     },
     "output_type": "display_data"
    }
   ],
   "source": [
    "plt.plot(validation_target, label = 'forecast_target')\n",
    "plt.plot(validation_predictions, label = 'forecast_prediction')\n",
    "plt.legend()"
   ]
  },
  {
   "cell_type": "markdown",
   "id": "00a8aebf-167e-4db1-8547-e4042519ff2f",
   "metadata": {},
   "source": [
    "### Noise Example"
   ]
  },
  {
   "cell_type": "code",
   "execution_count": 102,
   "id": "4de01802-cbef-4046-9a3f-71f4f50ce242",
   "metadata": {},
   "outputs": [],
   "source": [
    "series = np.sin(0.1 * np.arange(200)) + np.random.randn(200) * 0.1"
   ]
  },
  {
   "cell_type": "code",
   "execution_count": 105,
   "id": "442e14f9-96f2-4abd-983c-82a93d1a32dd",
   "metadata": {},
   "outputs": [
    {
     "data": {
      "image/png": "[encoded data removed]",
      "text/plain": [
       "<Figure size 432x288 with 1 Axes>"
      ]
     },
     "metadata": {
      "needs_background": "light"
     },
     "output_type": "display_data"
    }
   ],
   "source": [
    "plt.plot(series)\n",
    "plt.show()"
   ]
  },
  {
   "cell_type": "code",
   "execution_count": null,
   "id": "233ef57e-008a-42cf-9ae9-8f45b31353d2",
   "metadata": {},
   "outputs": [],
   "source": []
  },
  {
   "cell_type": "code",
   "execution_count": 106,
   "id": "78609d2e-501f-4a64-b4d6-7899b62f19cc",
   "metadata": {
    "tags": []
   },
   "outputs": [],
   "source": [
    "T = 10 # window size\n",
    "X = []\n",
    "Y = []"
   ]
  },
  {
   "cell_type": "code",
   "execution_count": 107,
   "id": "80d2fee0-c9ac-4b20-9e21-fb30ed83fd2c",
   "metadata": {
    "tags": []
   },
   "outputs": [],
   "source": [
    "for t in range(len(series) - T):\n",
    "    x = series[t : t+T]\n",
    "    X.append(x)\n",
    "    y = series[t+T]\n",
    "    Y.append(y)"
   ]
  },
  {
   "cell_type": "code",
   "execution_count": 108,
   "id": "73f13851-0be8-4855-a921-168b291ecb35",
   "metadata": {},
   "outputs": [
    {
     "name": "stdout",
     "output_type": "stream",
     "text": [
      "X.shape:(190, 10), Y.shape:(190,), N.length:190\n"
     ]
    }
   ],
   "source": [
    "X = np.array(X).reshape(-1 ,T)\n",
    "Y = np.array(Y)\n",
    "N = len(X)\n",
    "print(f\"X.shape:{X.shape}, Y.shape:{Y.shape}, N.length:{N}\")"
   ]
  },
  {
   "cell_type": "code",
   "execution_count": 109,
   "id": "1e939be6-f5fc-476d-b0d1-369e68c6780e",
   "metadata": {},
   "outputs": [
    {
     "name": "stdout",
     "output_type": "stream",
     "text": [
      "Model: \"model_3\"\n",
      "_________________________________________________________________\n",
      " Layer (type)                Output Shape              Param #   \n",
      "=================================================================\n",
      " input_5 (InputLayer)        [(None, 10)]              0         \n",
      "                                                                 \n",
      " dense_4 (Dense)             (None, 1)                 11        \n",
      "                                                                 \n",
      "=================================================================\n",
      "Total params: 11\n",
      "Trainable params: 11\n",
      "Non-trainable params: 0\n",
      "_________________________________________________________________\n"
     ]
    }
   ],
   "source": [
    "# linear model\n",
    "i = Input(shape=(T, ))\n",
    "x = Dense(1)(i)\n",
    "\n",
    "model = Model(i, x)\n",
    "model.summary()"
   ]
  },
  {
   "cell_type": "code",
   "execution_count": null,
   "id": "c39d0cd5-19fc-4f0e-823f-3fd11089a823",
   "metadata": {},
   "outputs": [],
   "source": []
  },
  {
   "cell_type": "code",
   "execution_count": 110,
   "id": "d45e0043-ced5-49e4-9f20-8a8d09fc9e7b",
   "metadata": {},
   "outputs": [
    {
     "name": "stderr",
     "output_type": "stream",
     "text": [
      "C:\\ProgramData\\Anaconda3\\lib\\site-packages\\keras\\optimizer_v2\\adam.py:105: UserWarning: The `lr` argument is deprecated, use `learning_rate` instead.\n",
      "  super(Adam, self).__init__(name, **kwargs)\n"
     ]
    }
   ],
   "source": [
    "model.compile(loss='mse', optimizer=Adam(lr=0.1))"
   ]
  },
  {
   "cell_type": "code",
   "execution_count": 111,
   "id": "a23e05fb-86a2-4e0b-b4e0-7faea51447b6",
   "metadata": {},
   "outputs": [
    {
     "name": "stdout",
     "output_type": "stream",
     "text": [
      "Epoch 1/80\n",
      "3/3 [==============================] - 0s 37ms/step - loss: 0.2826 - val_loss: 0.1846\n",
      "Epoch 2/80\n",
      "3/3 [==============================] - 0s 12ms/step - loss: 0.1305 - val_loss: 0.0991\n",
      "Epoch 3/80\n",
      "3/3 [==============================] - 0s 10ms/step - loss: 0.0724 - val_loss: 0.0251\n",
      "Epoch 4/80\n",
      "3/3 [==============================] - 0s 11ms/step - loss: 0.0443 - val_loss: 0.0512\n",
      "Epoch 5/80\n",
      "3/3 [==============================] - 0s 11ms/step - loss: 0.0457 - val_loss: 0.0504\n",
      "Epoch 6/80\n",
      "3/3 [==============================] - 0s 10ms/step - loss: 0.0642 - val_loss: 0.0353\n",
      "Epoch 7/80\n",
      "3/3 [==============================] - 0s 9ms/step - loss: 0.0487 - val_loss: 0.0403\n",
      "Epoch 8/80\n",
      "3/3 [==============================] - 0s 10ms/step - loss: 0.0387 - val_loss: 0.0238\n",
      "Epoch 9/80\n",
      "3/3 [==============================] - 0s 11ms/step - loss: 0.0342 - val_loss: 0.0207\n",
      "Epoch 10/80\n",
      "3/3 [==============================] - 0s 10ms/step - loss: 0.0297 - val_loss: 0.0323\n",
      "Epoch 11/80\n",
      "3/3 [==============================] - 0s 10ms/step - loss: 0.0318 - val_loss: 0.0251\n",
      "Epoch 12/80\n",
      "3/3 [==============================] - 0s 10ms/step - loss: 0.0296 - val_loss: 0.0235\n",
      "Epoch 13/80\n",
      "3/3 [==============================] - 0s 11ms/step - loss: 0.0285 - val_loss: 0.0222\n",
      "Epoch 14/80\n",
      "3/3 [==============================] - 0s 10ms/step - loss: 0.0238 - val_loss: 0.0197\n",
      "Epoch 15/80\n",
      "3/3 [==============================] - 0s 11ms/step - loss: 0.0243 - val_loss: 0.0183\n",
      "Epoch 16/80\n",
      "3/3 [==============================] - 0s 9ms/step - loss: 0.0231 - val_loss: 0.0190\n",
      "Epoch 17/80\n",
      "3/3 [==============================] - 0s 10ms/step - loss: 0.0222 - val_loss: 0.0182\n",
      "Epoch 18/80\n",
      "3/3 [==============================] - 0s 10ms/step - loss: 0.0223 - val_loss: 0.0170\n",
      "Epoch 19/80\n",
      "3/3 [==============================] - 0s 10ms/step - loss: 0.0207 - val_loss: 0.0161\n",
      "Epoch 20/80\n",
      "3/3 [==============================] - 0s 10ms/step - loss: 0.0200 - val_loss: 0.0163\n",
      "Epoch 21/80\n",
      "3/3 [==============================] - 0s 11ms/step - loss: 0.0200 - val_loss: 0.0164\n",
      "Epoch 22/80\n",
      "3/3 [==============================] - 0s 10ms/step - loss: 0.0198 - val_loss: 0.0171\n",
      "Epoch 23/80\n",
      "3/3 [==============================] - 0s 10ms/step - loss: 0.0197 - val_loss: 0.0154\n",
      "Epoch 24/80\n",
      "3/3 [==============================] - 0s 10ms/step - loss: 0.0192 - val_loss: 0.0170\n",
      "Epoch 25/80\n",
      "3/3 [==============================] - 0s 10ms/step - loss: 0.0185 - val_loss: 0.0146\n",
      "Epoch 26/80\n",
      "3/3 [==============================] - 0s 11ms/step - loss: 0.0179 - val_loss: 0.0145\n",
      "Epoch 27/80\n",
      "3/3 [==============================] - 0s 11ms/step - loss: 0.0182 - val_loss: 0.0146\n",
      "Epoch 28/80\n",
      "3/3 [==============================] - 0s 11ms/step - loss: 0.0177 - val_loss: 0.0135\n",
      "Epoch 29/80\n",
      "3/3 [==============================] - 0s 11ms/step - loss: 0.0187 - val_loss: 0.0140\n",
      "Epoch 30/80\n",
      "3/3 [==============================] - 0s 10ms/step - loss: 0.0176 - val_loss: 0.0143\n",
      "Epoch 31/80\n",
      "3/3 [==============================] - 0s 11ms/step - loss: 0.0184 - val_loss: 0.0142\n",
      "Epoch 32/80\n",
      "3/3 [==============================] - 0s 11ms/step - loss: 0.0171 - val_loss: 0.0153\n",
      "Epoch 33/80\n",
      "3/3 [==============================] - 0s 11ms/step - loss: 0.0165 - val_loss: 0.0154\n",
      "Epoch 34/80\n",
      "3/3 [==============================] - 0s 11ms/step - loss: 0.0167 - val_loss: 0.0130\n",
      "Epoch 35/80\n",
      "3/3 [==============================] - 0s 11ms/step - loss: 0.0192 - val_loss: 0.0126\n",
      "Epoch 36/80\n",
      "3/3 [==============================] - 0s 11ms/step - loss: 0.0194 - val_loss: 0.0129\n",
      "Epoch 37/80\n",
      "3/3 [==============================] - 0s 12ms/step - loss: 0.0194 - val_loss: 0.0130\n",
      "Epoch 38/80\n",
      "3/3 [==============================] - 0s 12ms/step - loss: 0.0175 - val_loss: 0.0142\n",
      "Epoch 39/80\n",
      "3/3 [==============================] - 0s 11ms/step - loss: 0.0146 - val_loss: 0.0138\n",
      "Epoch 40/80\n",
      "3/3 [==============================] - 0s 11ms/step - loss: 0.0167 - val_loss: 0.0135\n",
      "Epoch 41/80\n",
      "3/3 [==============================] - 0s 10ms/step - loss: 0.0170 - val_loss: 0.0121\n",
      "Epoch 42/80\n",
      "3/3 [==============================] - 0s 12ms/step - loss: 0.0163 - val_loss: 0.0119\n",
      "Epoch 43/80\n",
      "3/3 [==============================] - 0s 18ms/step - loss: 0.0161 - val_loss: 0.0127\n",
      "Epoch 44/80\n",
      "3/3 [==============================] - 0s 12ms/step - loss: 0.0150 - val_loss: 0.0127\n",
      "Epoch 45/80\n",
      "3/3 [==============================] - 0s 10ms/step - loss: 0.0153 - val_loss: 0.0140\n",
      "Epoch 46/80\n",
      "3/3 [==============================] - 0s 18ms/step - loss: 0.0186 - val_loss: 0.0115\n",
      "Epoch 47/80\n",
      "3/3 [==============================] - 0s 9ms/step - loss: 0.0161 - val_loss: 0.0119\n",
      "Epoch 48/80\n",
      "3/3 [==============================] - 0s 11ms/step - loss: 0.0156 - val_loss: 0.0118\n",
      "Epoch 49/80\n",
      "3/3 [==============================] - 0s 11ms/step - loss: 0.0156 - val_loss: 0.0117\n",
      "Epoch 50/80\n",
      "3/3 [==============================] - 0s 9ms/step - loss: 0.0142 - val_loss: 0.0117\n",
      "Epoch 51/80\n",
      "3/3 [==============================] - 0s 10ms/step - loss: 0.0151 - val_loss: 0.0118\n",
      "Epoch 52/80\n",
      "3/3 [==============================] - 0s 17ms/step - loss: 0.0134 - val_loss: 0.0121\n",
      "Epoch 53/80\n",
      "3/3 [==============================] - 0s 11ms/step - loss: 0.0157 - val_loss: 0.0135\n",
      "Epoch 54/80\n",
      "3/3 [==============================] - 0s 11ms/step - loss: 0.0152 - val_loss: 0.0167\n",
      "Epoch 55/80\n",
      "3/3 [==============================] - 0s 11ms/step - loss: 0.0176 - val_loss: 0.0122\n",
      "Epoch 56/80\n",
      "3/3 [==============================] - 0s 10ms/step - loss: 0.0151 - val_loss: 0.0114\n",
      "Epoch 57/80\n",
      "3/3 [==============================] - 0s 10ms/step - loss: 0.0167 - val_loss: 0.0120\n",
      "Epoch 58/80\n",
      "3/3 [==============================] - 0s 11ms/step - loss: 0.0178 - val_loss: 0.0138\n",
      "Epoch 59/80\n",
      "3/3 [==============================] - 0s 10ms/step - loss: 0.0171 - val_loss: 0.0119\n",
      "Epoch 60/80\n",
      "3/3 [==============================] - 0s 11ms/step - loss: 0.0137 - val_loss: 0.0123\n",
      "Epoch 61/80\n",
      "3/3 [==============================] - 0s 10ms/step - loss: 0.0151 - val_loss: 0.0132\n",
      "Epoch 62/80\n",
      "3/3 [==============================] - 0s 10ms/step - loss: 0.0147 - val_loss: 0.0114\n",
      "Epoch 63/80\n",
      "3/3 [==============================] - 0s 10ms/step - loss: 0.0146 - val_loss: 0.0126\n",
      "Epoch 64/80\n",
      "3/3 [==============================] - 0s 11ms/step - loss: 0.0149 - val_loss: 0.0112\n",
      "Epoch 65/80\n",
      "3/3 [==============================] - 0s 10ms/step - loss: 0.0142 - val_loss: 0.0121\n",
      "Epoch 66/80\n",
      "3/3 [==============================] - 0s 11ms/step - loss: 0.0137 - val_loss: 0.0118\n",
      "Epoch 67/80\n",
      "3/3 [==============================] - 0s 11ms/step - loss: 0.0151 - val_loss: 0.0127\n",
      "Epoch 68/80\n",
      "3/3 [==============================] - 0s 17ms/step - loss: 0.0148 - val_loss: 0.0111\n",
      "Epoch 69/80\n",
      "3/3 [==============================] - 0s 10ms/step - loss: 0.0141 - val_loss: 0.0117\n",
      "Epoch 70/80\n",
      "3/3 [==============================] - 0s 10ms/step - loss: 0.0150 - val_loss: 0.0111\n",
      "Epoch 71/80\n",
      "3/3 [==============================] - 0s 10ms/step - loss: 0.0140 - val_loss: 0.0122\n",
      "Epoch 72/80\n",
      "3/3 [==============================] - 0s 9ms/step - loss: 0.0148 - val_loss: 0.0117\n",
      "Epoch 73/80\n",
      "3/3 [==============================] - 0s 10ms/step - loss: 0.0137 - val_loss: 0.0112\n",
      "Epoch 74/80\n",
      "3/3 [==============================] - 0s 10ms/step - loss: 0.0152 - val_loss: 0.0122\n",
      "Epoch 75/80\n",
      "3/3 [==============================] - 0s 9ms/step - loss: 0.0152 - val_loss: 0.0113\n",
      "Epoch 76/80\n",
      "3/3 [==============================] - 0s 16ms/step - loss: 0.0152 - val_loss: 0.0115\n",
      "Epoch 77/80\n",
      "3/3 [==============================] - 0s 10ms/step - loss: 0.0148 - val_loss: 0.0122\n",
      "Epoch 78/80\n",
      "3/3 [==============================] - 0s 10ms/step - loss: 0.0145 - val_loss: 0.0113\n",
      "Epoch 79/80\n",
      "3/3 [==============================] - 0s 11ms/step - loss: 0.0138 - val_loss: 0.0123\n",
      "Epoch 80/80\n",
      "3/3 [==============================] - 0s 10ms/step - loss: 0.0145 - val_loss: 0.0118\n"
     ]
    }
   ],
   "source": [
    "# train the model\n",
    "# X : 학습데이터, Y : 정답데이터 , epochs = 80, validation_data: 검증데이터\n",
    "r = model.fit(X[:-N//2], Y[:-N//2], epochs = 80, validation_data=(X[-N//2:], Y[-N//2:]))"
   ]
  },
  {
   "cell_type": "code",
   "execution_count": null,
   "id": "dc34b535-5333-4bbc-b708-e9825a9c1f39",
   "metadata": {},
   "outputs": [],
   "source": []
  },
  {
   "cell_type": "code",
   "execution_count": 112,
   "id": "67ee9367-4ee8-4be2-a33b-202324a27cd9",
   "metadata": {
    "jupyter": {
     "source_hidden": true
    },
    "tags": []
   },
   "outputs": [
    {
     "data": {
      "text/plain": [
       "<matplotlib.legend.Legend at 0x191b77725e0>"
      ]
     },
     "execution_count": 112,
     "metadata": {},
     "output_type": "execute_result"
    },
    {
     "data": {
      "image/png": "[encoded data removed]",
      "text/plain": [
       "<Figure size 432x288 with 1 Axes>"
      ]
     },
     "metadata": {
      "needs_background": "light"
     },
     "output_type": "display_data"
    }
   ],
   "source": [
    "plt.plot(r.history['loss'], label='loss')\n",
    "plt.plot(r.history['val_loss'], label='val_loss')\n",
    "plt.legend()"
   ]
  },
  {
   "cell_type": "markdown",
   "id": "b77657a2-64c1-4702-b28b-2990d3488a65",
   "metadata": {},
   "source": [
    "### \"Wrong\" forecast using true target"
   ]
  },
  {
   "cell_type": "code",
   "execution_count": 113,
   "id": "1553adb6-ecd7-4451-8513-3e2755932735",
   "metadata": {},
   "outputs": [],
   "source": [
    "validation_target = Y[-N//2:]\n",
    "validation_predictions = []\n",
    "\n",
    "i = -N //2\n",
    "\n",
    "while len(validation_predictions) < len(validation_target) :\n",
    "    p = model.predict(X[i].reshape(1, -1))[0, 0] # 1x1 array -> Scalar\n",
    "    i += 1\n",
    "    \n",
    "    validation_predictions.append(p)"
   ]
  },
  {
   "cell_type": "code",
   "execution_count": 114,
   "id": "d460be13-0c1c-41d9-95b2-d29ca5cf9041",
   "metadata": {},
   "outputs": [
    {
     "data": {
      "text/plain": [
       "<matplotlib.legend.Legend at 0x191b4bbf3d0>"
      ]
     },
     "execution_count": 114,
     "metadata": {},
     "output_type": "execute_result"
    },
    {
     "data": {
      "image/png": "[encoded data removed]",
      "text/plain": [
       "<Figure size 432x288 with 1 Axes>"
      ]
     },
     "metadata": {
      "needs_background": "light"
     },
     "output_type": "display_data"
    }
   ],
   "source": [
    "plt.plot(validation_target, label = 'forecast_target')\n",
    "plt.plot(validation_predictions, label = 'forecast_target')\n",
    "plt.legend()"
   ]
  },
  {
   "cell_type": "code",
   "execution_count": 115,
   "id": "1c685199-bc1d-4bc9-8658-a08e7e341d96",
   "metadata": {},
   "outputs": [],
   "source": [
    "validation_target = Y[-N//2:]\n",
    "validation_predictions = []\n",
    "\n",
    "i = -N //2\n",
    "# last_train input\n",
    "last_x = X[-N//2] \n"
   ]
  },
  {
   "cell_type": "code",
   "execution_count": 116,
   "id": "1d4fe173-00f6-4211-aae0-f38f5a2c7f3a",
   "metadata": {},
   "outputs": [
    {
     "name": "stdout",
     "output_type": "stream",
     "text": [
      "95\n",
      "[-0.06744608 -0.241413   -0.35985382 -0.40442529 -0.53280588 -0.336648\n",
      " -0.5395577  -0.61246327 -0.83632156 -0.87640675]\n"
     ]
    }
   ],
   "source": [
    "print(len(validation_target))\n",
    "print(last_x)"
   ]
  },
  {
   "cell_type": "code",
   "execution_count": 117,
   "id": "af5ca80e-bc50-480c-acdc-0afa9401022d",
   "metadata": {},
   "outputs": [
    {
     "name": "stdout",
     "output_type": "stream",
     "text": [
      "[[-0.06744608 -0.241413   -0.35985382 -0.40442529 -0.53280588 -0.336648\n",
      "  -0.5395577  -0.61246327 -0.83632156 -0.87640675]]\n"
     ]
    }
   ],
   "source": [
    "print(last_x.reshape(1, -1))"
   ]
  },
  {
   "cell_type": "code",
   "execution_count": 118,
   "id": "ca514d98-2072-4d5c-86c7-d1205b56b3f1",
   "metadata": {},
   "outputs": [
    {
     "name": "stdout",
     "output_type": "stream",
     "text": [
      "-0.8446809\n"
     ]
    }
   ],
   "source": [
    "print(model.predict(last_x.reshape(1,-1))[0,0])"
   ]
  },
  {
   "cell_type": "code",
   "execution_count": 119,
   "id": "d793d05d-2d86-40eb-b654-28805828070d",
   "metadata": {},
   "outputs": [],
   "source": [
    "while len(validation_predictions) < len(validation_target) :\n",
    "    p = model.predict(last_x.reshape(1,-1))[0, 0] # 1 x 1 array -> scalar\n",
    "    validation_predictions.append(p)\n",
    "    \n",
    "    last_x = np.roll(last_x, -1) # circular 회전 시켜줌.\n",
    "    last_x[-1] = p"
   ]
  },
  {
   "cell_type": "code",
   "execution_count": 120,
   "id": "ca16a8f6-9d66-4a14-a1e4-d78f9f4e7104",
   "metadata": {},
   "outputs": [
    {
     "data": {
      "text/plain": [
       "<matplotlib.legend.Legend at 0x191b88c1910>"
      ]
     },
     "execution_count": 120,
     "metadata": {},
     "output_type": "execute_result"
    },
    {
     "data": {
      "image/png": "[encoded data removed]",
      "text/plain": [
       "<Figure size 432x288 with 1 Axes>"
      ]
     },
     "metadata": {
      "needs_background": "light"
     },
     "output_type": "display_data"
    }
   ],
   "source": [
    "plt.plot(validation_target, label = 'forecast_target')\n",
    "plt.plot(validation_predictions, label = 'forecast_prediction')\n",
    "plt.legend()"
   ]
  },
  {
   "cell_type": "code",
   "execution_count": null,
   "id": "0b7bd39a-f68e-48f6-8e8e-917efb3cd774",
   "metadata": {},
   "outputs": [],
   "source": []
  }
 ],
 "metadata": {
  "kernelspec": {
   "display_name": "Python 3 (ipykernel)",
   "language": "python",
   "name": "python3"
  },
  "language_info": {
   "codemirror_mode": {
    "name": "ipython",
    "version": 3
   },
   "file_extension": ".py",
   "mimetype": "text/x-python",
   "name": "python",
   "nbconvert_exporter": "python",
   "pygments_lexer": "ipython3",
   "version": "3.9.7"
  }
 },
 "nbformat": 4,
 "nbformat_minor": 5
}
