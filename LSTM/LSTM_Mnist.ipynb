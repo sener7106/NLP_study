{
 "cells": [
  {
   "cell_type": "code",
   "execution_count": 26,
   "id": "8c52d343-a1a1-4979-b57b-f3dbbcc05e3b",
   "metadata": {},
   "outputs": [],
   "source": [
    "from tensorflow.keras.layers import Input, Dense, Flatten, LSTM, SimpleRNN, GlobalMaxPool1D, GRU\n",
    "from tensorflow.keras.models import Model\n",
    "from tensorflow.keras.optimizers import SGD, Adam\n",
    "\n",
    "import tensorflow as tf\n",
    "import numpy as np\n",
    "import pandas as pd\n",
    "import matplotlib.pyplot as plt"
   ]
  },
  {
   "cell_type": "code",
   "execution_count": 27,
   "id": "4f3cbc18-afab-41e0-bc71-cb44d9cb12ca",
   "metadata": {},
   "outputs": [],
   "source": [
    "dataset = tf.keras.datasets.mnist\n",
    "\n",
    "(X_train, y_train), (X_test, y_test) = dataset.load_data()"
   ]
  },
  {
   "cell_type": "code",
   "execution_count": 28,
   "id": "21388143-001b-4516-8240-32562fbd25e0",
   "metadata": {},
   "outputs": [
    {
     "name": "stdout",
     "output_type": "stream",
     "text": [
      "X_train.shape : (60000, 28, 28)\n"
     ]
    }
   ],
   "source": [
    "print(f\"X_train.shape : {X_train.shape}\")"
   ]
  },
  {
   "cell_type": "code",
   "execution_count": 29,
   "id": "68b17953-8b06-4260-a10d-dd370ce1aa00",
   "metadata": {},
   "outputs": [],
   "source": [
    "X_train, X_test = X_train / 255.0 , X_test/255.0"
   ]
  },
  {
   "cell_type": "code",
   "execution_count": 30,
   "id": "4516c5b1-ae75-4c7b-8a25-7a4b2058309b",
   "metadata": {},
   "outputs": [
    {
     "data": {
      "text/plain": [
       "(28, 28)"
      ]
     },
     "execution_count": 30,
     "metadata": {},
     "output_type": "execute_result"
    }
   ],
   "source": [
    "X_train[0].shape"
   ]
  },
  {
   "cell_type": "code",
   "execution_count": null,
   "id": "80d749be-c5d2-4390-b786-d52de559edf8",
   "metadata": {},
   "outputs": [],
   "source": []
  },
  {
   "cell_type": "code",
   "execution_count": 34,
   "id": "a690f05d-ffad-46c9-ba12-9c9ce8d4427f",
   "metadata": {},
   "outputs": [],
   "source": [
    "# build a model\n",
    "i = Input(shape=X_train[0].shape) # T x D\n",
    "x = LSTM(128)(i)\n",
    "x = Dense(10, activation='softmax')(x)\n",
    "model = Model(i, x)\n",
    "model.compile(loss='sparse_categorical_crossentropy', optimizer='adam', metrics=['accuracy'])"
   ]
  },
  {
   "cell_type": "code",
   "execution_count": 35,
   "id": "1e37618e-ac32-4e3c-ab1c-8938688a2b2e",
   "metadata": {},
   "outputs": [
    {
     "name": "stdout",
     "output_type": "stream",
     "text": [
      "Model: \"model_3\"\n",
      "_________________________________________________________________\n",
      " Layer (type)                Output Shape              Param #   \n",
      "=================================================================\n",
      " input_5 (InputLayer)        [(None, 28, 28)]          0         \n",
      "                                                                 \n",
      " lstm_4 (LSTM)               (None, 128)               80384     \n",
      "                                                                 \n",
      " dense_3 (Dense)             (None, 10)                1290      \n",
      "                                                                 \n",
      "=================================================================\n",
      "Total params: 81,674\n",
      "Trainable params: 81,674\n",
      "Non-trainable params: 0\n",
      "_________________________________________________________________\n"
     ]
    }
   ],
   "source": [
    "model.summary()"
   ]
  },
  {
   "cell_type": "code",
   "execution_count": 36,
   "id": "696b55c9-c814-403f-8f8b-59424777dab4",
   "metadata": {},
   "outputs": [
    {
     "name": "stdout",
     "output_type": "stream",
     "text": [
      "Epoch 1/20\n",
      "1875/1875 [==============================] - 46s 24ms/step - loss: 0.3453 - accuracy: 0.8891 - val_loss: 0.1321 - val_accuracy: 0.9607\n",
      "Epoch 2/20\n",
      "1875/1875 [==============================] - 44s 23ms/step - loss: 0.1012 - accuracy: 0.9692 - val_loss: 0.0888 - val_accuracy: 0.9710\n",
      "Epoch 3/20\n",
      "1875/1875 [==============================] - 43s 23ms/step - loss: 0.0694 - accuracy: 0.9798 - val_loss: 0.0643 - val_accuracy: 0.9805\n",
      "Epoch 4/20\n",
      "1875/1875 [==============================] - 44s 23ms/step - loss: 0.0553 - accuracy: 0.9831 - val_loss: 0.0610 - val_accuracy: 0.9805\n",
      "Epoch 5/20\n",
      "1875/1875 [==============================] - 46s 25ms/step - loss: 0.0459 - accuracy: 0.9863 - val_loss: 0.0605 - val_accuracy: 0.9818\n",
      "Epoch 6/20\n",
      "1875/1875 [==============================] - 46s 24ms/step - loss: 0.0378 - accuracy: 0.9884 - val_loss: 0.0510 - val_accuracy: 0.9843\n",
      "Epoch 7/20\n",
      "1875/1875 [==============================] - 45s 24ms/step - loss: 0.0322 - accuracy: 0.9901 - val_loss: 0.0441 - val_accuracy: 0.9870\n",
      "Epoch 8/20\n",
      "1875/1875 [==============================] - 46s 24ms/step - loss: 0.0289 - accuracy: 0.9908 - val_loss: 0.0415 - val_accuracy: 0.9871\n",
      "Epoch 9/20\n",
      "1875/1875 [==============================] - 53s 29ms/step - loss: 0.0251 - accuracy: 0.9923 - val_loss: 0.0376 - val_accuracy: 0.9877\n",
      "Epoch 10/20\n",
      "1875/1875 [==============================] - 47s 25ms/step - loss: 0.0228 - accuracy: 0.9929 - val_loss: 0.0340 - val_accuracy: 0.9892\n",
      "Epoch 11/20\n",
      "1875/1875 [==============================] - 54s 29ms/step - loss: 0.0197 - accuracy: 0.9937 - val_loss: 0.0357 - val_accuracy: 0.9885\n",
      "Epoch 12/20\n",
      "1875/1875 [==============================] - 55s 29ms/step - loss: 0.0177 - accuracy: 0.9942 - val_loss: 0.0520 - val_accuracy: 0.9858\n",
      "Epoch 13/20\n",
      "1875/1875 [==============================] - 50s 27ms/step - loss: 0.0178 - accuracy: 0.9942 - val_loss: 0.0353 - val_accuracy: 0.9902\n",
      "Epoch 14/20\n",
      "1875/1875 [==============================] - 54s 29ms/step - loss: 0.0141 - accuracy: 0.9955 - val_loss: 0.0424 - val_accuracy: 0.9879\n",
      "Epoch 15/20\n",
      "1875/1875 [==============================] - 53s 28ms/step - loss: 0.0124 - accuracy: 0.9962 - val_loss: 0.0459 - val_accuracy: 0.9887\n",
      "Epoch 16/20\n",
      "1875/1875 [==============================] - 51s 27ms/step - loss: 0.0137 - accuracy: 0.9955 - val_loss: 0.0477 - val_accuracy: 0.9879\n",
      "Epoch 17/20\n",
      "1875/1875 [==============================] - 45s 24ms/step - loss: 0.0114 - accuracy: 0.9965 - val_loss: 0.0411 - val_accuracy: 0.9888\n",
      "Epoch 18/20\n",
      "1875/1875 [==============================] - 47s 25ms/step - loss: 0.0128 - accuracy: 0.9961 - val_loss: 0.0424 - val_accuracy: 0.9894\n",
      "Epoch 19/20\n",
      "1875/1875 [==============================] - 46s 25ms/step - loss: 0.0105 - accuracy: 0.9970 - val_loss: 0.0396 - val_accuracy: 0.9901\n",
      "Epoch 20/20\n",
      "1875/1875 [==============================] - 51s 27ms/step - loss: 0.0094 - accuracy: 0.9970 - val_loss: 0.0490 - val_accuracy: 0.9874\n"
     ]
    }
   ],
   "source": [
    "r = model.fit(X_train, y_train, epochs = 20, validation_data = (X_test, y_test))"
   ]
  },
  {
   "cell_type": "code",
   "execution_count": 41,
   "id": "d302b776-deb9-4827-b80e-917ffd2eaa54",
   "metadata": {},
   "outputs": [
    {
     "data": {
      "image/png": "[encoded data removed]",
      "text/plain": [
       "<Figure size 432x288 with 1 Axes>"
      ]
     },
     "metadata": {
      "needs_background": "light"
     },
     "output_type": "display_data"
    }
   ],
   "source": [
    "plt.plot(r.history['loss'], label = 'loss')\n",
    "plt.plot(r.history['val_loss'], label = 'val_loss')\n",
    "plt.legend()\n",
    "plt.show()"
   ]
  },
  {
   "cell_type": "code",
   "execution_count": 42,
   "id": "8722d704-80a4-4474-a4e7-072990a72d5f",
   "metadata": {},
   "outputs": [
    {
     "data": {
      "text/plain": [
       "<matplotlib.legend.Legend at 0x1319238faf0>"
      ]
     },
     "execution_count": 42,
     "metadata": {},
     "output_type": "execute_result"
    },
    {
     "data": {
      "image/png": "[encoded data removed]",
      "text/plain": [
       "<Figure size 432x288 with 1 Axes>"
      ]
     },
     "metadata": {
      "needs_background": "light"
     },
     "output_type": "display_data"
    }
   ],
   "source": [
    "plt.plot(r.history['accuracy'], label='accuracy')\n",
    "plt.plot(r.history['val_accuracy'], label='val_accuracy')\n",
    "plt.legend()"
   ]
  },
  {
   "cell_type": "code",
   "execution_count": 43,
   "id": "23835a3a-8f09-4edc-a886-c21ffb22e8f7",
   "metadata": {},
   "outputs": [],
   "source": [
    "from sklearn.metrics import confusion_matrix\n",
    "import itertools\n",
    "\n",
    "def plot_confusion_matrix(cm, classes, normalize=False, \n",
    "                          title='Confusion matrix', cmap=plt.cm.Blues):\n",
    "  \"\"\"\n",
    "  This function prints and plots the confusion matrix.\n",
    "  Normalization can be applied by setting `normalize=True`.\n",
    "  \"\"\"\n",
    "  if normalize:\n",
    "    cm = cm.astype('float') / cm.sum(axis=1)[:, np.newaxis]\n",
    "    print(\"Normalized confusion matrix\")\n",
    "  else:\n",
    "    print('Confusion matrix, without normalization')\n",
    "\n",
    "  print(cm)\n",
    "\n",
    "  plt.imshow(cm, interpolation='nearest', cmap=cmap)\n",
    "  plt.title(title)\n",
    "  plt.colorbar()\n",
    "  tick_marks = np.arange(len(classes))\n",
    "  plt.xticks(tick_marks, classes, rotation=45)\n",
    "  plt.yticks(tick_marks, classes)\n",
    "\n",
    "  fmt = '.2f' if normalize else 'd'\n",
    "  thresh = cm.max() / 2.\n",
    "  for i, j in itertools.product(range(cm.shape[0]), range(cm.shape[1])):\n",
    "    plt.text(j, i, format(cm[i, j], fmt),\n",
    "             horizontalalignment=\"center\",\n",
    "             color=\"white\" if cm[i, j] > thresh else \"black\")\n",
    "  \n",
    "  plt.tight_layout()\n",
    "  plt.ylabel('True label')\n",
    "  plt.xlabel('Predicted label')\n",
    "  plt.show()\n"
   ]
  },
  {
   "cell_type": "code",
   "execution_count": 45,
   "id": "6dc8d3b4-5e63-4e7c-bed5-41e566367928",
   "metadata": {},
   "outputs": [
    {
     "name": "stdout",
     "output_type": "stream",
     "text": [
      "Confusion matrix, without normalization\n",
      "[[ 976    0    0    1    0    0    1    1    1    0]\n",
      " [   0 1131    0    1    0    1    2    0    0    0]\n",
      " [   2    0 1022    1    1    0    0    4    1    1]\n",
      " [   0    0    4  999    0    1    0    1    5    0]\n",
      " [   0    0    0    0  969    0    2    1    1    9]\n",
      " [   1    0    1   16    0  863    4    1    4    2]\n",
      " [   1    2    0    0    2    0  951    0    2    0]\n",
      " [   0   13    4    2    0    0    0 1003    1    5]\n",
      " [   1    1    2    0    1    2    2    1  963    1]\n",
      " [   1    0    0    1    2    4    0    3    1  997]]\n"
     ]
    },
    {
     "data": {
      "image/png": "[encoded data removed]",
      "text/plain": [
       "<Figure size 432x288 with 2 Axes>"
      ]
     },
     "metadata": {
      "needs_background": "light"
     },
     "output_type": "display_data"
    }
   ],
   "source": [
    "p_test = model.predict(X_test).argmax(axis=1)\n",
    "cm = confusion_matrix(y_test, p_test)\n",
    "plot_confusion_matrix(cm, list(range(10)))"
   ]
  },
  {
   "cell_type": "code",
   "execution_count": 47,
   "id": "57a1a18c-2adf-4613-a852-2472cfe7a9a8",
   "metadata": {},
   "outputs": [
    {
     "data": {
      "text/plain": [
       "126"
      ]
     },
     "execution_count": 47,
     "metadata": {},
     "output_type": "execute_result"
    }
   ],
   "source": [
    "misclassified_idx = np.where(p_test != y_test)[0]\n",
    "len(misclassified_idx)"
   ]
  },
  {
   "cell_type": "code",
   "execution_count": 55,
   "id": "9c165176-21ad-41b8-bc87-0e9d6a4300c8",
   "metadata": {},
   "outputs": [
    {
     "data": {
      "text/plain": [
       "Text(0.5, 1.0, 'True label: 8, Predicted: 6')"
      ]
     },
     "execution_count": 55,
     "metadata": {},
     "output_type": "execute_result"
    },
    {
     "data": {
      "image/png": "[encoded data removed]",
      "text/plain": [
       "<Figure size 432x288 with 1 Axes>"
      ]
     },
     "metadata": {
      "needs_background": "light"
     },
     "output_type": "display_data"
    }
   ],
   "source": [
    "idx = np.random.choice(misclassified_idx)\n",
    "plt.imshow(X_test[idx], cmap='gray')\n",
    "plt.title(f\"True label: {y_test[idx]}, Predicted: {p_test[idx]}\")"
   ]
  },
  {
   "cell_type": "code",
   "execution_count": null,
   "id": "5cb96f36-77ce-444d-afd5-22bea99fb53d",
   "metadata": {},
   "outputs": [],
   "source": []
  }
 ],
 "metadata": {
  "kernelspec": {
   "display_name": "Python 3 (ipykernel)",
   "language": "python",
   "name": "python3"
  },
  "language_info": {
   "codemirror_mode": {
    "name": "ipython",
    "version": 3
   },
   "file_extension": ".py",
   "mimetype": "text/x-python",
   "name": "python",
   "nbconvert_exporter": "python",
   "pygments_lexer": "ipython3",
   "version": "3.9.7"
  }
 },
 "nbformat": 4,
 "nbformat_minor": 5
}
